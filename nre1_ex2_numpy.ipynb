{
 "cells": [
  {
   "cell_type": "markdown",
   "metadata": {},
   "source": [
    "# Exercise 2 \n",
    "\n",
    "# Numerical methods for Python\n",
    "\n",
    "In our first exercise, we had a look at some basic Python packages and first simple scientific examples for plotting functions. The methods that we used before were mainly based on pure Python objects, especially on lists. These object types are useful for many Python programming methods and very flexible, but highly inefficient when used for numerical calculations.\n",
    "\n",
    "Python has an integrated extension library `numpy` (for: numerical Python) that provides a lot of methods and objects for more efficient numerical calculations.\n",
    "\n",
    "However, in order to use the full efficiency gain of these methods, they have to be used in an appropriate way: in vectorised operations. Basically, this means that, instead of iterating over several entires to perform a calculation (say, adding two vectors), it is better to add the arrays directly, with appropriate methods.\n",
    "\n",
    "Again, this will sound very familiar to anyone who knows Matlab. And, again, this is no coincidence, as the underlying programming style is identical and even mostly based on the same linear algebra software packages, the famous LaPACK \n",
    "(http://en.wikipedia.org/wiki/LAPACK) and BLAS.\n",
    "\n",
    "We will start with a quick tour of the `numpy` package and the new object types that it provides and then compare the use of those methods to the simple Python implementations.\n"
   ]
  },
  {
   "cell_type": "markdown",
   "metadata": {},
   "source": [
    "## Preliminary: importing Python libraries\n",
    "\n",
    "Before we get started with the Python extension packages, a quick introduction into how these packages/ libraries are actually included in your program. In the last exercise notebook, you already saw the implementation:\n",
    "\n",
    "    from pylab import *\n",
    "    \n",
    "This line imports all the functions from the `pylab` library into the current program. More specifically, it imports all the functions into the current namespace. This means that you can call any function from that library directly in your program. As an example, in the last exercise notebook we then used the `plot` command from this library:\n",
    "\n",
    "    plot(random_numbers, 'o')\n",
    "    \n",
    "Although it is very convenient to have the functions readily available in the same namespace, it can cause serious problems - especially if functions with a name are imported that already exist in the namespace. In this case, confusion is guaranteed!\n",
    "\n",
    "So, the safer way is to import either:\n",
    "\n",
    "1. only single functions from a library:\n",
    "    \n",
    "        from numpy.random import randint\n",
    "    \n",
    "2. to import the library with its own reference namespace, e.g.:\n",
    "\n",
    "        import numpy\n",
    "    \n",
    "For the case of the second implementation, the functions of the libraries can then be accessed with the dot-notation, e.g.:\n",
    "\n",
    "    numpy.array([2,3])\n",
    "    \n",
    "We will see a lot more examples below. A convenient method is to abbreviate the imported library with an alias name. For example, very commonly used is:\n",
    "\n",
    "    import numpy as np\n",
    "\n",
    "The functions can then be accessed with:\n",
    "\n",
    "    np.array([2,3])\n",
    "    \n",
    "Depending on how often you have to use a specific function, this method can save quite a bit of time. Just make sure that you use a meaningful name as alias - and that you do not accidentally overwrite a variable you created before...\n",
    "\n",
    "Try out those methods for module import:\n"
   ]
  },
  {
   "cell_type": "code",
   "execution_count": 3,
   "metadata": {
    "collapsed": false
   },
   "outputs": [],
   "source": [
    "# use the import method to import a module\"\n",
    "import numpy as np"
   ]
  },
  {
   "cell_type": "markdown",
   "metadata": {},
   "source": [
    "## `numpy` basics\n",
    "\n",
    "<hr style=\"border-width: 2px;\">\n",
    "\n",
    "A note to experienced Matlab users: I am going here through the very basics of `numpy` - a lot of the methods will look very familiar to you (see more comments below). If you feel confident, you can skip most of the `numpy` introduction and have a look at a direct comparison betwen Matlab and `numpy` methods, nicely summarised here:\n",
    "\n",
    "http://wiki.scipy.org/NumPy_for_Matlab_Users\n",
    "\n",
    "However, please have a look through this notebook anyway - and experiment with some of the methods to see the little (but quite important) differences...\n",
    "<hr style=\"border-width: 2px;\">\n",
    "\n",
    "\n",
    "\n",
    "The Python package `numpy` mainly contains methods to work efficiently with arrays and matrices. In addition, it provides a range of methods for typical operations that are often required in numerical analyses, like random number generation and several efficient linear algebra methods.\n",
    "\n",
    "### n-dimensional arrays\n",
    "\n",
    "At the core of `numpy` are multi-dimensional arrays. There are two very important differences between Python lists and `numpy` arrays:\n",
    "1. `numpy` arrays always contain elements of the same type (e.g. only integer values) - whereas Python lists can contain any elements;\n",
    "2. The memory for `numpy` arrays is allocated whereas Python lists operate on a dynamic memory. In practice this means that:\n",
    "    - you should avoid to append elements to an array (as we have done before with Python lists - the append() function).\n",
    "    - if you need a long list of known length with (yet) unknown elements, then pre-define the list as an empty list (examples will follow).\n",
    "\n",
    "We will start looking at methods to generate `numpy` array objects, first. The simplest way to create an array object is actually to directly convert a Python list to an array with the `np.array()` function (Note: I'll use `np` as the common abbreviation for `numpy` methods in the following):\n",
    "\n",
    "\n"
   ]
  },
  {
   "cell_type": "code",
   "execution_count": 4,
   "metadata": {
    "collapsed": false
   },
   "outputs": [],
   "source": [
    "a_list = range(100)\n",
    "a_array = np.array(a_list)"
   ]
  },
  {
   "cell_type": "markdown",
   "metadata": {},
   "source": [
    "Here are some methods and attributes of this object. The dimensions of an array object is stored in:"
   ]
  },
  {
   "cell_type": "code",
   "execution_count": 5,
   "metadata": {
    "collapsed": false
   },
   "outputs": [
    {
     "data": {
      "text/plain": [
       "(100L,)"
      ]
     },
     "execution_count": 5,
     "metadata": {},
     "output_type": "execute_result"
    }
   ],
   "source": [
    "a_array.shape"
   ]
  },
  {
   "cell_type": "markdown",
   "metadata": {},
   "source": [
    "We can take an array, reshape it and return it in a different dimension, e.g.:"
   ]
  },
  {
   "cell_type": "code",
   "execution_count": 7,
   "metadata": {
    "collapsed": false
   },
   "outputs": [
    {
     "name": "stdout",
     "output_type": "stream",
     "text": [
      "2\n",
      "[[ 0  1  2  3  4  5  6  7  8  9 10 11 12 13 14 15 16 17 18 19 20 21 22 23\n",
      "  24 25 26 27 28 29 30 31 32 33 34 35 36 37 38 39 40 41 42 43 44 45 46 47\n",
      "  48 49]\n",
      " [50 51 52 53 54 55 56 57 58 59 60 61 62 63 64 65 66 67 68 69 70 71 72 73\n",
      "  74 75 76 77 78 79 80 81 82 83 84 85 86 87 88 89 90 91 92 93 94 95 96 97\n",
      "  98 99]]\n"
     ]
    }
   ],
   "source": [
    "b_array = a_array.reshape(2,50)\n",
    "print b_array.ndim\n",
    "print b_array"
   ]
  },
  {
   "cell_type": "markdown",
   "metadata": {},
   "source": [
    "The shape of an array is stored in the variable `shape`:"
   ]
  },
  {
   "cell_type": "code",
   "execution_count": 6,
   "metadata": {
    "collapsed": false
   },
   "outputs": [
    {
     "name": "stdout",
     "output_type": "stream",
     "text": [
      "(100,)\n",
      "(2, 50)\n"
     ]
    }
   ],
   "source": [
    "print a_array.shape\n",
    "print b_array.shape"
   ]
  },
  {
   "cell_type": "markdown",
   "metadata": {},
   "source": [
    "### Array types\n",
    "\n",
    "As mentioned above, an important difference to standard Python lists is that arrays always contain the same data type. The array type is stored in the array variable `dtype`, e.g.:\n"
   ]
  },
  {
   "cell_type": "code",
   "execution_count": 8,
   "metadata": {
    "collapsed": false
   },
   "outputs": [],
   "source": [
    "new_array = np.array([2, 2, 1], dtype=\"int32\")"
   ]
  },
  {
   "cell_type": "code",
   "execution_count": 14,
   "metadata": {
    "collapsed": false
   },
   "outputs": [],
   "source": [
    "new_array[0] = 356167233123\n"
   ]
  },
  {
   "cell_type": "code",
   "execution_count": 15,
   "metadata": {
    "collapsed": false
   },
   "outputs": [
    {
     "data": {
      "text/plain": [
       "array([-315052445,          2,          1], dtype=int32)"
      ]
     },
     "execution_count": 15,
     "metadata": {},
     "output_type": "execute_result"
    }
   ],
   "source": [
    "new_array"
   ]
  },
  {
   "cell_type": "markdown",
   "metadata": {},
   "source": [
    "We can see that, in the first example, we created an array with elements of integer type. \n",
    "\n",
    "Try what happens if you now assign a float value to an array element:"
   ]
  },
  {
   "cell_type": "code",
   "execution_count": 16,
   "metadata": {
    "collapsed": false
   },
   "outputs": [
    {
     "name": "stdout",
     "output_type": "stream",
     "text": [
      "3\n"
     ]
    }
   ],
   "source": [
    "a_array[2] = 3.2\n",
    "print a_array[2]"
   ]
  },
  {
   "cell_type": "markdown",
   "metadata": {},
   "source": [
    "The value is automatically converted to the type of the array! This behaviour is useful, but can lead to problems if you are not careful in generating arrays!\n",
    "\n",
    "If you want to create an array of a specific type (to avoid these problems - or to get more efficient memory use), you can define the type with the `dtype` argument in most `numpy` array generation functions:\n"
   ]
  },
  {
   "cell_type": "code",
   "execution_count": 17,
   "metadata": {
    "collapsed": false
   },
   "outputs": [],
   "source": [
    "a2_array = np.array(a_list, dtype=float)"
   ]
  },
  {
   "cell_type": "markdown",
   "metadata": {},
   "source": [
    "If we now assign a float value, we get what we expected:"
   ]
  },
  {
   "cell_type": "code",
   "execution_count": 74,
   "metadata": {
    "collapsed": false
   },
   "outputs": [],
   "source": [
    "a2_array[2] = 3.2\n",
    "print a2_array[2]"
   ]
  },
  {
   "cell_type": "markdown",
   "metadata": {},
   "source": [
    "### Creating arrays with `numpy` functions\n",
    "\n",
    "Another (and often more efficient) way to create `numpy` arrays is to use the methods provided by the package. As opposed to the Python `range()` function, we can use its `numpy` equivalent to directly get an array:"
   ]
  },
  {
   "cell_type": "code",
   "execution_count": 75,
   "metadata": {
    "collapsed": false
   },
   "outputs": [
    {
     "name": "stdout",
     "output_type": "stream",
     "text": [
      "[ 0  1  2  3  4  5  6  7  8  9 10 11 12 13 14 15 16 17 18 19 20 21 22 23 24\n",
      " 25 26 27 28 29 30 31 32 33 34 35 36 37 38 39 40 41 42 43 44 45 46 47 48 49\n",
      " 50 51 52 53 54 55 56 57 58 59 60 61 62 63 64 65 66 67 68 69 70 71 72 73 74\n",
      " 75 76 77 78 79 80 81 82 83 84 85 86 87 88 89 90 91 92 93 94 95 96 97 98 99]\n",
      "<type 'numpy.ndarray'>\n",
      "int64\n"
     ]
    }
   ],
   "source": [
    "c_array = np.arange(100)\n",
    "print c_array\n",
    "print type(c_array)\n",
    "print c_array.dtype"
   ]
  },
  {
   "cell_type": "markdown",
   "metadata": {},
   "source": [
    "Also here, you can use the `dtype` keyword to enforce a specific variable type in the array, e.g.:"
   ]
  },
  {
   "cell_type": "code",
   "execution_count": 18,
   "metadata": {
    "collapsed": false
   },
   "outputs": [
    {
     "name": "stdout",
     "output_type": "stream",
     "text": [
      "[  0.+0.j   1.+0.j   2.+0.j   3.+0.j   4.+0.j   5.+0.j   6.+0.j   7.+0.j\n",
      "   8.+0.j   9.+0.j  10.+0.j  11.+0.j  12.+0.j  13.+0.j  14.+0.j  15.+0.j\n",
      "  16.+0.j  17.+0.j  18.+0.j  19.+0.j  20.+0.j  21.+0.j  22.+0.j  23.+0.j\n",
      "  24.+0.j  25.+0.j  26.+0.j  27.+0.j  28.+0.j  29.+0.j  30.+0.j  31.+0.j\n",
      "  32.+0.j  33.+0.j  34.+0.j  35.+0.j  36.+0.j  37.+0.j  38.+0.j  39.+0.j\n",
      "  40.+0.j  41.+0.j  42.+0.j  43.+0.j  44.+0.j  45.+0.j  46.+0.j  47.+0.j\n",
      "  48.+0.j  49.+0.j  50.+0.j  51.+0.j  52.+0.j  53.+0.j  54.+0.j  55.+0.j\n",
      "  56.+0.j  57.+0.j  58.+0.j  59.+0.j  60.+0.j  61.+0.j  62.+0.j  63.+0.j\n",
      "  64.+0.j  65.+0.j  66.+0.j  67.+0.j  68.+0.j  69.+0.j  70.+0.j  71.+0.j\n",
      "  72.+0.j  73.+0.j  74.+0.j  75.+0.j  76.+0.j  77.+0.j  78.+0.j  79.+0.j\n",
      "  80.+0.j  81.+0.j  82.+0.j  83.+0.j  84.+0.j  85.+0.j  86.+0.j  87.+0.j\n",
      "  88.+0.j  89.+0.j  90.+0.j  91.+0.j  92.+0.j  93.+0.j  94.+0.j  95.+0.j\n",
      "  96.+0.j  97.+0.j  98.+0.j  99.+0.j]\n",
      "complex128\n"
     ]
    }
   ],
   "source": [
    "c2_array = np.arange(100, dtype=complex)\n",
    "print c2_array\n",
    "print c2_array.dtype"
   ]
  },
  {
   "cell_type": "markdown",
   "metadata": {},
   "source": [
    "Other commonly used methods are `np.linspace` and `np.logspace` to create arrays with increasing elements for a defined range (similar to Matlab, again):"
   ]
  },
  {
   "cell_type": "code",
   "execution_count": 19,
   "metadata": {
    "collapsed": false
   },
   "outputs": [
    {
     "name": "stdout",
     "output_type": "stream",
     "text": [
      "[ 0.   0.1  0.2  0.3  0.4  0.5  0.6  0.7  0.8  0.9  1. ]\n",
      "[    1.             2.15443469     4.64158883    10.            21.5443469\n",
      "    46.41588834   100.           215.443469     464.15888336  1000.        ]\n"
     ]
    }
   ],
   "source": [
    "d_array = np.linspace(0,1,11)\n",
    "print d_array\n",
    "e_array = np.logspace(0,3,10)\n",
    "print e_array"
   ]
  },
  {
   "cell_type": "code",
   "execution_count": 21,
   "metadata": {
    "collapsed": false
   },
   "outputs": [
    {
     "data": {
      "text/plain": [
       "array([ 0. ,  0.1,  0.2,  0.3,  0.4,  0.5,  0.6,  0.7,  0.8,  0.9,  1. ])"
      ]
     },
     "execution_count": 21,
     "metadata": {},
     "output_type": "execute_result"
    }
   ],
   "source": [
    "np.arange(0,1.01,0.1)"
   ]
  },
  {
   "cell_type": "markdown",
   "metadata": {},
   "source": [
    "If you want more details on the functions, remember the useful IPython help call:\n",
    "\n",
    "`np.logspace??`"
   ]
  },
  {
   "cell_type": "markdown",
   "metadata": {},
   "source": [
    "### Empty arrays and arrays filled with ones\n",
    "\n",
    "If you need an array to store data that is yet unknown (but you know the array length), then you can create an empty array with defined shape (and, optionally, type):"
   ]
  },
  {
   "cell_type": "code",
   "execution_count": 23,
   "metadata": {
    "collapsed": false
   },
   "outputs": [
    {
     "name": "stdout",
     "output_type": "stream",
     "text": [
      "[ 0.  0.  0.  0.  0.  0.  0.  0.  0.  0.]\n"
     ]
    }
   ],
   "source": [
    "shape = (10,)\n",
    "empty_array = np.empty(shape) #, dtype=float64)\n",
    "print empty_array"
   ]
  },
  {
   "cell_type": "markdown",
   "metadata": {},
   "source": [
    "Note that the array elements are not necessarily zero, so don't perform any operations on it. If you really want a zero array, it is better to use the `np.zeros` method:"
   ]
  },
  {
   "cell_type": "code",
   "execution_count": 24,
   "metadata": {
    "collapsed": false
   },
   "outputs": [
    {
     "name": "stdout",
     "output_type": "stream",
     "text": [
      "[ 0.  0.  0.  0.  0.  0.  0.  0.  0.  0.]\n"
     ]
    }
   ],
   "source": [
    "zeros_array = np.zeros(shape)\n",
    "print zeros_array"
   ]
  },
  {
   "cell_type": "markdown",
   "metadata": {},
   "source": [
    "Similarly, there is the very useful `np.ones` method:"
   ]
  },
  {
   "cell_type": "code",
   "execution_count": 26,
   "metadata": {
    "collapsed": false
   },
   "outputs": [
    {
     "name": "stdout",
     "output_type": "stream",
     "text": [
      "[ 100.  100.  100.  100.  100.  100.  100.  100.  100.  100.]\n"
     ]
    }
   ],
   "source": [
    "ones_array = np.ones(shape) * 100\n",
    "print ones_array"
   ]
  },
  {
   "cell_type": "markdown",
   "metadata": {},
   "source": [
    "It is often the case that you need an array with, say, empty elements that has the same shape as another array (for example, if you want to store results for some operation on that array). You can determine and use the shape of a different array with the methods:"
   ]
  },
  {
   "cell_type": "code",
   "execution_count": 160,
   "metadata": {
    "collapsed": false
   },
   "outputs": [],
   "source": [
    "x = np.arange(10)\n",
    "empty_again = np.empty_like(x)\n",
    "zeros_again = np.zeros_like(x)\n",
    "ones_again = np.ones_like(x)"
   ]
  },
  {
   "cell_type": "markdown",
   "metadata": {},
   "source": [
    "## Extracting elements of arrays"
   ]
  },
  {
   "cell_type": "markdown",
   "metadata": {},
   "source": [
    "Extracting elements from 1-D arrays is similar to extracting elements from Python lists, e.g. for single elements, we can use:"
   ]
  },
  {
   "cell_type": "code",
   "execution_count": 109,
   "metadata": {
    "collapsed": false
   },
   "outputs": [],
   "source": [
    "print a_array[5]"
   ]
  },
  {
   "cell_type": "markdown",
   "metadata": {},
   "source": [
    "And for array slices, a `[from_element:to_element]`-logic:"
   ]
  },
  {
   "cell_type": "code",
   "execution_count": 113,
   "metadata": {
    "collapsed": false
   },
   "outputs": [],
   "source": [
    "print a_array[10:20]"
   ]
  },
  {
   "cell_type": "markdown",
   "metadata": {},
   "source": [
    "Note: Python understands negative array (and list) indexes as going from the last element `[-1]` backwards, so the last two elements are: "
   ]
  },
  {
   "cell_type": "code",
   "execution_count": 128,
   "metadata": {
    "collapsed": false
   },
   "outputs": [],
   "source": [
    "print a_array[-2:100]"
   ]
  },
  {
   "cell_type": "markdown",
   "metadata": {},
   "source": [
    "When extracting slices, you can also define the index increment:"
   ]
  },
  {
   "cell_type": "code",
   "execution_count": 121,
   "metadata": {
    "collapsed": false
   },
   "outputs": [],
   "source": [
    "print a_array[0:10:2]"
   ]
  },
  {
   "cell_type": "markdown",
   "metadata": {},
   "source": [
    "And this functionality can be useful if you want to reverse the order of elements in an array:"
   ]
  },
  {
   "cell_type": "code",
   "execution_count": 125,
   "metadata": {
    "collapsed": false
   },
   "outputs": [],
   "source": [
    "a_array_reversed = a_array[::-1]"
   ]
  },
  {
   "cell_type": "markdown",
   "metadata": {},
   "source": [
    "### Extracting elements from multidimensional arrays\n",
    "\n",
    "If you have an array of higher dimension, then the elements are extracted with indexes (or slices) separated by a comma:"
   ]
  },
  {
   "cell_type": "code",
   "execution_count": 27,
   "metadata": {
    "collapsed": false
   },
   "outputs": [
    {
     "name": "stdout",
     "output_type": "stream",
     "text": [
      "[[ 0  1  2  3  4]\n",
      " [ 5  6  7  8  9]\n",
      " [10 11 12 13 14]\n",
      " [15 16 17 18 19]]\n"
     ]
    }
   ],
   "source": [
    "md_array = np.arange(20).reshape(4,5)\n",
    "print md_array"
   ]
  },
  {
   "cell_type": "code",
   "execution_count": 28,
   "metadata": {
    "collapsed": false
   },
   "outputs": [
    {
     "data": {
      "text/plain": [
       "1"
      ]
     },
     "execution_count": 28,
     "metadata": {},
     "output_type": "execute_result"
    }
   ],
   "source": [
    "md_array[0,1] # first row, second element"
   ]
  },
  {
   "cell_type": "code",
   "execution_count": 135,
   "metadata": {
    "collapsed": false
   },
   "outputs": [
    {
     "data": {
      "text/plain": [
       "array([0, 1, 2, 3, 4])"
      ]
     },
     "execution_count": 135,
     "metadata": {},
     "output_type": "execute_result"
    }
   ],
   "source": [
    "md_array[0,:] # extract entire first row"
   ]
  },
  {
   "cell_type": "code",
   "execution_count": 136,
   "metadata": {
    "collapsed": false
   },
   "outputs": [
    {
     "data": {
      "text/plain": [
       "array([ 0,  5, 10, 15])"
      ]
     },
     "execution_count": 136,
     "metadata": {},
     "output_type": "execute_result"
    }
   ],
   "source": [
    "md_array[:,0] # extract first column"
   ]
  },
  {
   "cell_type": "code",
   "execution_count": 140,
   "metadata": {
    "collapsed": false
   },
   "outputs": [
    {
     "data": {
      "text/plain": [
       "array([[11, 12, 13],\n",
       "       [16, 17, 18]])"
      ]
     },
     "execution_count": 140,
     "metadata": {},
     "output_type": "execute_result"
    }
   ],
   "source": [
    "md_array[2:4,1:4] # extract a sub-md-array of dimenion 2: \n",
    "                  # elements in columns 1,2,3 of rows 2,3"
   ]
  },
  {
   "cell_type": "code",
   "execution_count": 29,
   "metadata": {
    "collapsed": false
   },
   "outputs": [
    {
     "data": {
      "text/plain": [
       "array([[ 0,  1,  2,  3,  4],\n",
       "       [ 5,  6,  7,  8,  9],\n",
       "       [10, 11, 12, 13, 14],\n",
       "       [15, 16, 17, 18, 19]])"
      ]
     },
     "execution_count": 29,
     "metadata": {},
     "output_type": "execute_result"
    }
   ],
   "source": [
    "md_array"
   ]
  },
  {
   "cell_type": "code",
   "execution_count": 30,
   "metadata": {
    "collapsed": false
   },
   "outputs": [
    {
     "data": {
      "text/plain": [
       "array([[ True,  True,  True, False, False],\n",
       "       [False, False, False, False, False],\n",
       "       [False, False, False, False, False],\n",
       "       [False, False, False, False, False]], dtype=bool)"
      ]
     },
     "execution_count": 30,
     "metadata": {},
     "output_type": "execute_result"
    }
   ],
   "source": [
    "md_array < 3"
   ]
  },
  {
   "cell_type": "markdown",
   "metadata": {},
   "source": [
    "### Extracting elements with a boolean array\n",
    "\n",
    "Quite often it happens that you want to extract elements from an array at locations that are determined with a boolean operation, for example all elements that are within a certain range of values. You can achieve it in `numpy` with actually passing a boolean array to the index brackets:"
   ]
  },
  {
   "cell_type": "code",
   "execution_count": 44,
   "metadata": {
    "collapsed": false
   },
   "outputs": [],
   "source": [
    "n = np.array([0,1,0,0,0], dtype=bool)"
   ]
  },
  {
   "cell_type": "code",
   "execution_count": 45,
   "metadata": {
    "collapsed": false
   },
   "outputs": [
    {
     "name": "stdout",
     "output_type": "stream",
     "text": [
      "[False  True False False False]\n"
     ]
    }
   ],
   "source": [
    "print n"
   ]
  },
  {
   "cell_type": "code",
   "execution_count": 162,
   "metadata": {
    "collapsed": false
   },
   "outputs": [
    {
     "name": "stdout",
     "output_type": "stream",
     "text": [
      "[2 4]\n"
     ]
    }
   ],
   "source": [
    "f_array = np.arange(5)\n",
    "boolean_array = np.array([False, False, True, False, True])\n",
    "print f_array[boolean_array]"
   ]
  },
  {
   "cell_type": "markdown",
   "metadata": {},
   "source": [
    "You can also create the boolean array directly with an inequality operation on an existing array, e.g.:"
   ]
  },
  {
   "cell_type": "code",
   "execution_count": 165,
   "metadata": {
    "collapsed": false
   },
   "outputs": [
    {
     "name": "stdout",
     "output_type": "stream",
     "text": [
      "[ 0  1  2  3  4  5  6  7  8  9 10 11 12 13 14 15 16 17 18 19]\n"
     ]
    }
   ],
   "source": [
    "g_array = np.arange(100)\n",
    "another_boolean_array = g_array < 20\n",
    "print g_array[another_boolean_array]"
   ]
  },
  {
   "cell_type": "markdown",
   "metadata": {},
   "source": [
    "And you can also combine boolean arrays by simple multiplication for multiple constraints:"
   ]
  },
  {
   "cell_type": "code",
   "execution_count": 169,
   "metadata": {
    "collapsed": false
   },
   "outputs": [
    {
     "name": "stdout",
     "output_type": "stream",
     "text": [
      "[11 12 13 14 15 16 17 18 19]\n"
     ]
    }
   ],
   "source": [
    "h_array = np.arange(100)\n",
    "lower_bound = h_array > 10\n",
    "upper_bound = h_array < 20\n",
    "combined_bounds = lower_bound * upper_bound\n",
    "print h_array[combined_bounds]"
   ]
  },
  {
   "cell_type": "markdown",
   "metadata": {},
   "source": [
    "## Vectorised operations\n",
    "\n",
    "A core functionality for an efficient use of `numpy` methods is the use of vectorised operations - whenever this is possible. What this means it that, instead of performing operations on single elements in a vector (with, for example, a `for`-loop), the operations are performed on the entire vector with a suitable function.\n",
    "\n",
    "As an example, let's say you want to calculate the sine of values in a range  [0,2$\\pi$].\n"
   ]
  },
  {
   "cell_type": "code",
   "execution_count": 126,
   "metadata": {
    "collapsed": false
   },
   "outputs": [],
   "source": [
    "x = np.arange(0, 2 * np.pi, 0.1)"
   ]
  },
  {
   "cell_type": "code",
   "execution_count": 47,
   "metadata": {
    "collapsed": false
   },
   "outputs": [
    {
     "name": "stdout",
     "output_type": "stream",
     "text": [
      "30\n",
      "10\n",
      "20\n"
     ]
    }
   ],
   "source": [
    "for x in [30,10,20]:\n",
    "    print x\n"
   ]
  },
  {
   "cell_type": "markdown",
   "metadata": {},
   "source": [
    "The iterative way is:"
   ]
  },
  {
   "cell_type": "code",
   "execution_count": 25,
   "metadata": {
    "collapsed": false
   },
   "outputs": [],
   "source": [
    "y = np.empty_like(x)\n",
    "for i,xx in enumerate(x):\n",
    "    y[i] = sin(xx)"
   ]
  },
  {
   "cell_type": "code",
   "execution_count": 12,
   "metadata": {
    "collapsed": false
   },
   "outputs": [
    {
     "name": "stdout",
     "output_type": "stream",
     "text": [
      "[ 0.16669343  0.18045669  0.37991499  0.58636995  0.86348955  0.40696016\n",
      "  0.64009479  0.67812991  0.95338688  0.67901884]\n",
      "i 0\n",
      "x 0.166693433222\n",
      "i 1\n",
      "x 0.180456689366\n",
      "i 2\n",
      "x 0.379914990535\n",
      "i 3\n",
      "x 0.586369949071\n",
      "i 4\n",
      "x 0.86348954583\n",
      "i 5\n",
      "x 0.406960159404\n",
      "i 6\n",
      "x 0.640094793731\n",
      "i 7\n",
      "x 0.678129914783\n",
      "i 8\n",
      "x 0.953386879054\n",
      "i 9\n",
      "x 0.679018837002\n"
     ]
    }
   ],
   "source": [
    "x = np.random.rand(10)\n",
    "print x\n",
    "for i,x in enumerate(x):\n",
    "    print \"i\",i\n",
    "    print \"x\",x"
   ]
  },
  {
   "cell_type": "markdown",
   "metadata": {},
   "source": [
    "We iterate over all elements in the x-array, then calculate the sine value for this element, and pass it to the appropriate position in the y-array. If you like, create a quick plot of those values to check if we have done it correctly (always a good idea):"
   ]
  },
  {
   "cell_type": "code",
   "execution_count": 48,
   "metadata": {
    "collapsed": false
   },
   "outputs": [],
   "source": [
    "x = np.arange(0,2*np.pi,0.1)"
   ]
  },
  {
   "cell_type": "markdown",
   "metadata": {},
   "source": [
    "We do get the correct result, but the implementation is not very efficient. A better way to get the same result is to use the `np.sin` function instead of the standard Python `sin` function: the `numpy` function can operate on all vector elements with one call (it is a *vectorised* function).\n",
    "\n",
    "In addition, if we use the vectorised function, we do not have to create an empty `y` array first but can directly assign the result back to the array:\n",
    "\n"
   ]
  },
  {
   "cell_type": "code",
   "execution_count": 52,
   "metadata": {
    "collapsed": false
   },
   "outputs": [],
   "source": [
    "y = np.sin(x)"
   ]
  },
  {
   "cell_type": "code",
   "execution_count": 55,
   "metadata": {
    "collapsed": false
   },
   "outputs": [
    {
     "name": "stdout",
     "output_type": "stream",
     "text": [
      "[1, 2, 3, 4, 5, 6]\n"
     ]
    }
   ],
   "source": [
    "a_list = [1,2,3]\n",
    "b_list = [4,5,6]\n",
    "c_list = a_list + b_list\n",
    "print c_list"
   ]
  },
  {
   "cell_type": "markdown",
   "metadata": {},
   "source": [
    "Yes, it's as simple as that! In addition, the basic mathematical operations (+,-,\\*,/) can be directly applied to two array objects:"
   ]
  },
  {
   "cell_type": "code",
   "execution_count": 57,
   "metadata": {
    "collapsed": false
   },
   "outputs": [
    {
     "name": "stdout",
     "output_type": "stream",
     "text": [
      "[ 0.   0.2  0.4  0.6  0.8]\n",
      "[ 0.   0.4  0.8  1.2  1.6]\n"
     ]
    }
   ],
   "source": [
    "x = np.arange(0,1,0.2)\n",
    "print x\n",
    "x = x + x\n",
    "print x"
   ]
  },
  {
   "cell_type": "markdown",
   "metadata": {},
   "source": [
    "A note for Matlab users: in Matlab, this behaviour is implemented in the \".\" (dot)-operators - with `numpy`, it is the standard behaviour.\n",
    "\n",
    "Another useful function to know: if you want to add/ subtract/ multiply/ divide each element in an array with a scalar, you can simply perform the operation for the array with:\n"
   ]
  },
  {
   "cell_type": "code",
   "execution_count": 105,
   "metadata": {
    "collapsed": false
   },
   "outputs": [],
   "source": [
    "x = x + 2"
   ]
  },
  {
   "cell_type": "markdown",
   "metadata": {},
   "source": [
    "For these operations (and for the standard Python equivalents, as well), there is an often used shorthand that performs the same operation:"
   ]
  },
  {
   "cell_type": "code",
   "execution_count": 106,
   "metadata": {
    "collapsed": false
   },
   "outputs": [],
   "source": [
    "x += 2"
   ]
  },
  {
   "cell_type": "markdown",
   "metadata": {},
   "source": [
    "I mentioned before that the `numpy` functions are not only easier to work with but also more efficient. So the next logical question to ask is: what is the gain in efficiency between those two types of implementation - and, also, comparing a `numpy` implementation of a function to pure Python? \n",
    "\n",
    "We will have a look at ways to compare code in the following section."
   ]
  },
  {
   "cell_type": "markdown",
   "metadata": {},
   "source": [
    "## Short intermezzo: timing code execution\n",
    "\n",
    "Before we start to compare implementation, here a quick introduction to a very useful IPython magic function (already mentioned during Exercise 1): the `%timeit` function. It can be used to determine the execution time for any command that is preceding its call in the same line, or even for an entire notebook cell if it is used as the cell magic function `%%timeit`.\n",
    "\n",
    "See also examples and descrition in:\n",
    "\n",
    "http://ipython.org/ipython-doc/dev/interactive/tutorial.html\n",
    "\n",
    "A useful behaviour of this function is that it executes functions that are quite fast for a large number of times to get a good estimate of the execution time.\n",
    "\n",
    "Try it out with a function (or code snippet) of your choice:"
   ]
  },
  {
   "cell_type": "code",
   "execution_count": 58,
   "metadata": {
    "collapsed": false
   },
   "outputs": [
    {
     "name": "stdout",
     "output_type": "stream",
     "text": [
      "1000000 loops, best of 3: 1.08 µs per loop\n"
     ]
    }
   ],
   "source": [
    "%timeit np.sin(.2) # <- add your function here, for example sin(2.)"
   ]
  },
  {
   "cell_type": "markdown",
   "metadata": {},
   "source": [
    "We are using the `%timeit` function now to compare the efficiency of pure python algorithms compared with the (vectorised) `numpy` implementation.\n",
    "\n",
    "We first write a simple function that adds two lists together, element by element:"
   ]
  },
  {
   "cell_type": "code",
   "execution_count": 3,
   "metadata": {
    "collapsed": false
   },
   "outputs": [],
   "source": [
    "def add_elements_in_list(a,b):\n",
    "    \"\"\"basic Python implementation\"\"\"\n",
    "    c = []\n",
    "    for i in range(len(a)):\n",
    "        c.append(a[i] + b[i])\n",
    "    return c"
   ]
  },
  {
   "cell_type": "markdown",
   "metadata": {},
   "source": [
    "For the test, we simply create two lists:"
   ]
  },
  {
   "cell_type": "code",
   "execution_count": 4,
   "metadata": {
    "collapsed": false
   },
   "outputs": [],
   "source": [
    "# create some long lists to add\n",
    "a = []\n",
    "b = []\n",
    "for i in range(1000):\n",
    "    a.append(i)\n",
    "    b.append(i)"
   ]
  },
  {
   "cell_type": "markdown",
   "metadata": {},
   "source": [
    "We then use the `%timeit` function to evaluate the execution time for the function:"
   ]
  },
  {
   "cell_type": "code",
   "execution_count": 5,
   "metadata": {
    "collapsed": false
   },
   "outputs": [
    {
     "name": "stdout",
     "output_type": "stream",
     "text": [
      "1000 loops, best of 3: 194 µs per loop\n"
     ]
    }
   ],
   "source": [
    "%timeit add_elements_in_list(a,b)"
   ]
  },
  {
   "cell_type": "markdown",
   "metadata": {},
   "source": [
    "In my case, the execution of the function required approximately 180 $\\mu$s. \n",
    "\n",
    "Now, we are going to transform those lists into numpy arrays and repeat the addition with the appropriate `numpy` function. As stated above, in the concept of `numpy`, adding two vectors element-wise is simply the normal addition operation:"
   ]
  },
  {
   "cell_type": "code",
   "execution_count": 6,
   "metadata": {
    "collapsed": false
   },
   "outputs": [],
   "source": [
    "# transform into numpy arrays\n",
    "a_np = np.array(a)\n",
    "b_np = np.array(b)"
   ]
  },
  {
   "cell_type": "code",
   "execution_count": 7,
   "metadata": {
    "collapsed": false
   },
   "outputs": [
    {
     "name": "stdout",
     "output_type": "stream",
     "text": [
      "1000000 loops, best of 3: 1.91 µs per loop\n"
     ]
    }
   ],
   "source": [
    "%timeit a_np + b_np"
   ]
  },
  {
   "cell_type": "markdown",
   "metadata": {},
   "source": [
    "On my laptop, the execution time was now reduced to 1.8 $\\mu s$: the `numpy` implementation is faster by a factor of 100!\n",
    "\n",
    "Although you might not really care if a code executes in a fraction of a second or a really small fraction of a second (as in this case) - having code execute fast is an important consideration once we get to more complex simulations. So, it is best to get used to efficient programming styles early-on - it will later make your life easier!"
   ]
  },
  {
   "cell_type": "markdown",
   "metadata": {},
   "source": [
    "\n"
   ]
  },
  {
   "cell_type": "markdown",
   "metadata": {},
   "source": [
    "## Some more useful operations with `numpy`"
   ]
  },
  {
   "cell_type": "markdown",
   "metadata": {},
   "source": [
    "We had a look at several array methods before and discussed the use of vectorised operations."
   ]
  },
  {
   "cell_type": "markdown",
   "metadata": {},
   "source": [
    "### Basic array operations\n",
    "\n",
    "Some useful basic array operations are:"
   ]
  },
  {
   "cell_type": "code",
   "execution_count": 186,
   "metadata": {
    "collapsed": false
   },
   "outputs": [
    {
     "name": "stdout",
     "output_type": "stream",
     "text": [
      "[1, 3, 1, 24, 1, 234, 1]\n",
      "265\n",
      "[  1   1   1   1   3  24 234]\n",
      "[  1   4   5  29  30 264 265]\n",
      "1\n",
      "234\n"
     ]
    }
   ],
   "source": [
    "i_array = [1,3,1,24,1,234,1]\n",
    "print i_array\n",
    "print np.sum(i_array) # determine the sum\n",
    "print np.sort(i_array) # return sorted version of the array\n",
    "print np.cumsum(i_array) # cummulative sum of elements\n",
    "print np.min(i_array) # minimum value\n",
    "print np.max(i_array) # maximum value"
   ]
  },
  {
   "cell_type": "markdown",
   "metadata": {},
   "source": [
    "### Basic linear algebra\n",
    "\n",
    "We will have a look at some of these methods in more detail when we go along through our exercise, here a quick look at some important functions:\n"
   ]
  },
  {
   "cell_type": "code",
   "execution_count": 204,
   "metadata": {
    "collapsed": false
   },
   "outputs": [
    {
     "name": "stdout",
     "output_type": "stream",
     "text": [
      "[[ 1.  2.]\n",
      " [ 3.  4.]]\n",
      "[[ 1.  3.]\n",
      " [ 2.  4.]]\n",
      "[[-2.   1. ]\n",
      " [ 1.5 -0.5]]\n",
      "[[ 1.  0.]\n",
      " [ 0.  1.]]\n",
      "[[  7.  10.]\n",
      " [ 15.  22.]]\n",
      "5.0\n"
     ]
    }
   ],
   "source": [
    "import numpy.linalg as linalg\n",
    "a = np.arange(1.,5).reshape(2,2)\n",
    "print a # original array\n",
    "print a.transpose() # transpose \n",
    "print linalg.inv(a) # inverse of a\n",
    "b = np.eye(2) # 2x2 unit matrix, \"I\"\n",
    "print b\n",
    "c = np.dot(a,a) # dot/ matrix product\n",
    "print c\n",
    "ta = np.trace(a) # the trace of a\n",
    "print ta"
   ]
  },
  {
   "cell_type": "markdown",
   "metadata": {},
   "source": [
    "And for solving matrix equations and calculating eigenvalues and -vectors:"
   ]
  },
  {
   "cell_type": "code",
   "execution_count": 207,
   "metadata": {
    "collapsed": false
   },
   "outputs": [
    {
     "name": "stdout",
     "output_type": "stream",
     "text": [
      "[[-3.]\n",
      " [ 4.]]\n",
      "(array([-0.37228132,  5.37228132]), array([[-0.82456484, -0.41597356],\n",
      "       [ 0.56576746, -0.90937671]]))\n"
     ]
    }
   ],
   "source": [
    "y = array([[5.], [7.]])\n",
    "print linalg.solve(a,y)\n",
    "print linalg.eig(a)"
   ]
  },
  {
   "cell_type": "markdown",
   "metadata": {},
   "source": [
    "Again, we will use these (and more) methods later on - and explain them there again in more detail."
   ]
  },
  {
   "cell_type": "markdown",
   "metadata": {},
   "source": [
    "### Basic random numbers and statistics\n",
    "\n",
    "Methods to generate several types of random numbers are available in the package `numpy.random`. For example:"
   ]
  },
  {
   "cell_type": "code",
   "execution_count": 218,
   "metadata": {
    "collapsed": false
   },
   "outputs": [
    {
     "name": "stdout",
     "output_type": "stream",
     "text": [
      "[ 0.95994111  0.26214619  0.6008533   0.76835981  0.05550344  0.83210688\n",
      "  0.51226463  0.44370527  0.91939312  0.67598953]\n",
      "[25 24 23 28 29]\n",
      "[ 1.68648833 -2.23204029 -0.20045281  1.23979788  0.03520195 -0.89243789\n",
      "  1.00049372  0.0367333  -0.15230444 -0.61576343]\n"
     ]
    }
   ],
   "source": [
    "import numpy.random as random\n",
    "uniform_rns = random.uniform(0,1,10) # generate ten uniform random numbers between [0,1]\n",
    "print uniform_rns\n",
    "integer_rns = random.randint(20,30,5) # five random integers between [20,30]\n",
    "print integer_rns\n",
    "normal_rns = random.randn(10) # draw 10 samples from standard normal distribution\n",
    "print normal_rns"
   ]
  },
  {
   "cell_type": "markdown",
   "metadata": {},
   "source": [
    "And to determine the common statistics, you can simply use:"
   ]
  },
  {
   "cell_type": "code",
   "execution_count": 219,
   "metadata": {
    "collapsed": false
   },
   "outputs": [
    {
     "name": "stdout",
     "output_type": "stream",
     "text": [
      "0.603026328411\n",
      "1.07726601935\n",
      "1.16050207645\n"
     ]
    }
   ],
   "source": [
    "print np.mean(uniform_rns)\n",
    "print np.std(normal_rns)\n",
    "print np.var(normal_rns)"
   ]
  },
  {
   "cell_type": "markdown",
   "metadata": {},
   "source": [
    "## A note on: Copies and references\n",
    "\n",
    "Some of you might be familiar with the concept of references to variables (or pointers to memory locations of variables in C). Basically, a reference is creating a link to a variable. This is very useful, for example if you want to pass a variable to a function: instead of having to copy the entire variable (and, therefore, using up potentially quite a bit of extra memory), only the reference is passed.\n",
    "\n",
    "In Python, the default behaviour can, unfortunately, be sometimes confusing - so here a quick example on what to consider.\n",
    "\n",
    "First, we create a standard Python object: a simple integer:\n",
    "\n"
   ]
  },
  {
   "cell_type": "code",
   "execution_count": 59,
   "metadata": {
    "collapsed": false
   },
   "outputs": [],
   "source": [
    "a_int = 2"
   ]
  },
  {
   "cell_type": "markdown",
   "metadata": {},
   "source": [
    "We assign that variable to a new variable:"
   ]
  },
  {
   "cell_type": "code",
   "execution_count": 60,
   "metadata": {
    "collapsed": false
   },
   "outputs": [],
   "source": [
    "b_int = a_int"
   ]
  },
  {
   "cell_type": "markdown",
   "metadata": {},
   "source": [
    "Now, we assign a new value to the variable `a_int`:"
   ]
  },
  {
   "cell_type": "code",
   "execution_count": 61,
   "metadata": {
    "collapsed": false
   },
   "outputs": [],
   "source": [
    "a_int = 1000"
   ]
  },
  {
   "cell_type": "markdown",
   "metadata": {},
   "source": [
    "Have a look what happened with the variable `b_int`:"
   ]
  },
  {
   "cell_type": "code",
   "execution_count": 62,
   "metadata": {
    "collapsed": false
   },
   "outputs": [
    {
     "data": {
      "text/plain": [
       "2"
      ]
     },
     "execution_count": 62,
     "metadata": {},
     "output_type": "execute_result"
    }
   ],
   "source": [
    "b_int"
   ]
  },
  {
   "cell_type": "markdown",
   "metadata": {},
   "source": [
    "Ok, this is probably what you have expected: the value of the variable `b_int` is still as before - we created a true copy of variable `a_int` when we assigned it to `b_int`.\n",
    "\n",
    "Let's have a look what happens when we use a Python list object:"
   ]
  },
  {
   "cell_type": "code",
   "execution_count": 63,
   "metadata": {
    "collapsed": false
   },
   "outputs": [
    {
     "data": {
      "text/plain": [
       "[1, 2, 1000]"
      ]
     },
     "execution_count": 63,
     "metadata": {},
     "output_type": "execute_result"
    }
   ],
   "source": [
    "a_list = [1,2,3]\n",
    "b_list = a_list\n",
    "# now, change an entry in a_list:\n",
    "a_list[2] = 1000\n",
    "a_list"
   ]
  },
  {
   "cell_type": "markdown",
   "metadata": {},
   "source": [
    "That's fine - so what happened to the other list? Have a look:"
   ]
  },
  {
   "cell_type": "code",
   "execution_count": 64,
   "metadata": {
    "collapsed": false
   },
   "outputs": [],
   "source": [
    "b_list;"
   ]
  },
  {
   "cell_type": "markdown",
   "metadata": {},
   "source": [
    "The value in `b_list` changed, as well! So, in this case, we actually created a references to the list object - and not a copy - when we assigned `b_list = a_list`!\n",
    "\n",
    "The same behaviour is implemented for the `numpy.array` objects that we are going to use a lot in the course of this exercise:\n"
   ]
  },
  {
   "cell_type": "code",
   "execution_count": 65,
   "metadata": {
    "collapsed": false
   },
   "outputs": [
    {
     "name": "stdout",
     "output_type": "stream",
     "text": [
      "[   1    2 1000]\n",
      "[   1    2 1000]\n"
     ]
    }
   ],
   "source": [
    "a_array = np.array([1,2,3])\n",
    "b_array = a_array\n",
    "a_array[2] = 1000\n",
    "print a_array\n",
    "print b_array"
   ]
  },
  {
   "cell_type": "markdown",
   "metadata": {},
   "source": [
    "It is important to be aware of this behaviour and keep it in mind when you write your programs!\n",
    "\n",
    "Finally, if you really want to create a copy - and not a reference - then there are several options. For Python lists, the simples way is to actually copy the list entries:"
   ]
  },
  {
   "cell_type": "code",
   "execution_count": 16,
   "metadata": {
    "collapsed": false
   },
   "outputs": [
    {
     "name": "stdout",
     "output_type": "stream",
     "text": [
      "[1, 2, 128734] [1, 2, 3]\n"
     ]
    }
   ],
   "source": [
    "c_list = [1,2,3]\n",
    "# we now de-reference the entire list values and assign them to the new variable:\n",
    "d_list = c_list[:]\n",
    "c_list[2] = 128734\n",
    "print c_list, d_list"
   ]
  },
  {
   "cell_type": "markdown",
   "metadata": {},
   "source": [
    "For `numpy.array` objects, we can use an array method to get a copy:"
   ]
  },
  {
   "cell_type": "code",
   "execution_count": 17,
   "metadata": {
    "collapsed": false
   },
   "outputs": [
    {
     "name": "stdout",
     "output_type": "stream",
     "text": [
      "[   1    2 1234] [1 2 3]\n"
     ]
    }
   ],
   "source": [
    "c_array = np.array([1,2,3])\n",
    "d_array = c_array.copy()\n",
    "c_array[2] = 1234\n",
    "print c_array, d_array"
   ]
  },
  {
   "cell_type": "markdown",
   "metadata": {},
   "source": [
    "Finally, if you want to get a copy of any type of object, you can also use the method `copy.deepcopy`:"
   ]
  },
  {
   "cell_type": "code",
   "execution_count": 18,
   "metadata": {
    "collapsed": false
   },
   "outputs": [],
   "source": [
    "import copy"
   ]
  },
  {
   "cell_type": "code",
   "execution_count": 19,
   "metadata": {
    "collapsed": false
   },
   "outputs": [
    {
     "name": "stdout",
     "output_type": "stream",
     "text": [
      "[1, 2, 128734] [1, 2, 3]\n",
      "[   1    2 1234] [1 2 3]\n"
     ]
    }
   ],
   "source": [
    "# works for lists...\n",
    "c_list = [1,2,3]\n",
    "d_list = copy.deepcopy(c_list)\n",
    "c_list[2] = 128734\n",
    "print c_list, d_list\n",
    "# ... as well as arrays...\n",
    "c_array = np.array([1,2,3])\n",
    "d_array = copy.deepcopy(c_array)\n",
    "c_array[2] = 1234\n",
    "print c_array, d_array\n",
    "# ...as well as any other type of objects!"
   ]
  },
  {
   "cell_type": "code",
   "execution_count": 20,
   "metadata": {
    "collapsed": false
   },
   "outputs": [
    {
     "data": {
      "text/html": [
       "<link href='http://fonts.googleapis.com/css?family=Alegreya+Sans:100,300,400,500,700,800,900,100italic,300italic,400italic,500italic,700italic,800italic,900italic' rel='stylesheet' type='text/css'>\n",
       "<link href='http://fonts.googleapis.com/css?family=Arvo:400,700,400italic' rel='stylesheet' type='text/css'>\n",
       "<link href='http://fonts.googleapis.com/css?family=PT+Mono' rel='stylesheet' type='text/css'>\n",
       "<link href='http://fonts.googleapis.com/css?family=Shadows+Into+Light' rel='stylesheet' type='text/css'>\n",
       "<link rel=\"stylesheet\" type=\"text/css\" href=\"http://fonts.googleapis.com/css?family=Tangerine\">\n",
       "<link href='http://fonts.googleapis.com/css?family=Philosopher:400,700,400italic,700italic' rel='stylesheet' type='text/css'>\n",
       "<link href='http://fonts.googleapis.com/css?family=Libre+Baskerville:400,400italic' rel='stylesheet' type='text/css'>\n",
       "<link href='http://fonts.googleapis.com/css?family=Lora:400,400italic' rel='stylesheet' type='text/css'>\n",
       "<link href='http://fonts.googleapis.com/css?family=Karla:400,400italic' rel='stylesheet' type='text/css'>\n",
       "\n",
       "<style>\n",
       "\n",
       "@font-face {\n",
       "    font-family: \"Computer Modern\";\n",
       "    src: url('http://mirrors.ctan.org/fonts/cm-unicode/fonts/otf/cmunss.otf');\n",
       "}\n",
       "\n",
       "#notebook_panel { /* main background */\n",
       "    background: #888;\n",
       "    color: #f6f6f6;\n",
       "}\n",
       "\n",
       "div.cell { /* set cell width to about 80 chars */\n",
       "    width: 800px;\n",
       "}\n",
       "\n",
       "div #notebook { /* centre the content */\n",
       "    background: #fff; /* white background for content */\n",
       "    width: 1000px;\n",
       "    margin: auto;\n",
       "    padding-left: 1em;\n",
       "}\n",
       "\n",
       "#notebook li { /* More space between bullet points */\n",
       "margin-top:0.8em;\n",
       "}\n",
       "\n",
       "/* draw border around running cells */\n",
       "div.cell.border-box-sizing.code_cell.running { \n",
       "    border: 3px solid #111;\n",
       "}\n",
       "\n",
       "/* Put a solid color box around each cell and its output, visually linking them together */\n",
       "div.cell.code_cell {\n",
       "    background-color: rgba(171,165,131,1.0); \n",
       "    border-radius: 10px; /* rounded borders */\n",
       "    width: 900px;\n",
       "    padding: 1em;\n",
       "    margin-top: 1em;\n",
       "}\n",
       "\n",
       "div.text_cell_render{\n",
       "    font-family: 'Arvo' sans-serif;\n",
       "    line-height: 130%;\n",
       "    font-size: 115%;\n",
       "    width:700px;\n",
       "    margin-left:auto;\n",
       "    margin-right:auto;\n",
       "}\n",
       "\n",
       "\n",
       "/* Formatting for header cells */\n",
       ".text_cell_render h1 {\n",
       "    font-family: 'Philosopher', sans-serif;\n",
       "    /* font-family: 'Tangerine', serif; */\n",
       "    /* font-family: 'Libre Baskerville', serif; */\n",
       "    /* font-family: 'Karla', sans-serif;\n",
       "    /* font-family: 'Lora', serif; */\n",
       "    font-size: 50px;\n",
       "    text-align: center;\n",
       "    /* font-style: italic; */\n",
       "    font-weight: 400;\n",
       "    /* font-size: 40pt; */\n",
       "    text-shadow: 4px 4px 4px #aaa;\n",
       "    line-height: 120%;\n",
       "    color: rgb(12,85,97);\n",
       "    margin-bottom: .5em;\n",
       "    margin-top: 0.1em;\n",
       "    display: block;\n",
       "}\t\n",
       ".text_cell_render h2 {\n",
       "    /* font-family: 'Philosopher', serif; */\n",
       "    font-family: 'Lora', serif;\n",
       "    font-weight: 700;\n",
       "    font-size: 24pt;\n",
       "    line-height: 100%;\n",
       "    /* color: rgb(171,165,131); */\n",
       "    color: rgb(12,85,97);\n",
       "    margin-bottom: 0.1em;\n",
       "    margin-top: 0.1em;\n",
       "    display: block;\n",
       "}\t\n",
       "\n",
       ".text_cell_render h3 {\n",
       "    font-family: 'Philosopher', serif;\n",
       "    margin-top:12px;\n",
       "    margin-bottom: 3px;\n",
       "    font-style: italic;\n",
       "    color: rgb(95,92,72);\n",
       "}\n",
       "\n",
       ".text_cell_render h4 {\n",
       "    font-family: 'Philosopher', serif;\n",
       "}\n",
       "\n",
       ".text_cell_render h5 {\n",
       "    font-family: 'Alegreya Sans', sans-serif;\n",
       "    font-weight: 300;\n",
       "    font-size: 16pt;\n",
       "    color: grey;\n",
       "    font-style: italic;\n",
       "    margin-bottom: .1em;\n",
       "    margin-top: 0.1em;\n",
       "    display: block;\n",
       "}\n",
       "\n",
       ".text_cell_render h6 {\n",
       "    font-family: 'PT Mono', sans-serif;\n",
       "    font-weight: 300;\n",
       "    font-size: 10pt;\n",
       "    color: grey;\n",
       "    margin-bottom: 1px;\n",
       "    margin-top: 1px;\n",
       "}\n",
       "\n",
       ".CodeMirror{\n",
       "        font-family: \"PT Mono\";\n",
       "        font-size: 100%;\n",
       "}\n",
       "\n",
       "</style>\n"
      ],
      "text/plain": [
       "<IPython.core.display.HTML at 0x1046f5850>"
      ]
     },
     "execution_count": 20,
     "metadata": {},
     "output_type": "execute_result"
    }
   ],
   "source": [
    "from IPython.core.display import HTML\n",
    "css_file = 'nre_style_2.css'\n",
    "HTML(open(css_file, \"r\").read())"
   ]
  },
  {
   "cell_type": "markdown",
   "metadata": {
    "collapsed": false
   },
   "source": [
    "### Creation of matrices"
   ]
  },
  {
   "cell_type": "code",
   "execution_count": 4,
   "metadata": {
    "collapsed": false
   },
   "outputs": [
    {
     "name": "stdout",
     "output_type": "stream",
     "text": [
      "[[-2.  4.  0.  0.  0.  0.  0.  0.  0.  0.]\n",
      " [ 3. -2.  4.  0.  0.  0.  0.  0.  0.  0.]\n",
      " [ 0.  0. -2.  4.  0.  0.  0.  0.  0.  0.]\n",
      " [ 0.  0.  0. -2.  4.  0.  0.  0.  0.  0.]\n",
      " [ 0.  0.  0.  0. -2.  4.  0.  0.  0.  0.]\n",
      " [ 0.  0.  0.  0.  0. -2.  4.  0.  0.  0.]\n",
      " [ 0.  0.  0.  0.  0.  0. -2.  4.  0.  0.]\n",
      " [ 0.  0.  0.  0.  0.  0.  0. -2.  4.  0.]\n",
      " [ 0.  0.  0.  0.  0.  0.  0.  0. -2.  4.]\n",
      " [ 0.  0.  0.  0.  0.  0.  0.  0.  0. -2.]]\n"
     ]
    }
   ],
   "source": [
    "import numpy as np\n",
    "# 1. define dimension\n",
    "N=10\n",
    "\n",
    "# 2. create a NxN matrix with zeros\n",
    "shape=(N,N)\n",
    "A = np.zeros(shape)\n",
    "B = A\n",
    "# 3. modify matrix\n",
    "i,j = np.indices(shape)\n",
    "A[i==j] = -2.\n",
    "A[i-1==-j] = 3.\n",
    "A[i+1==j] = 4.\n",
    "\n",
    "print A\n",
    "\n"
   ]
  },
  {
   "cell_type": "code",
   "execution_count": null,
   "metadata": {
    "collapsed": true
   },
   "outputs": [],
   "source": []
  }
 ],
 "metadata": {
  "kernelspec": {
   "display_name": "Python 2",
   "language": "python",
   "name": "python2"
  },
  "language_info": {
   "codemirror_mode": {
    "name": "ipython",
    "version": 2
   },
   "file_extension": ".py",
   "mimetype": "text/x-python",
   "name": "python",
   "nbconvert_exporter": "python",
   "pygments_lexer": "ipython2",
   "version": "2.7.9"
  }
 },
 "nbformat": 4,
 "nbformat_minor": 0
}
