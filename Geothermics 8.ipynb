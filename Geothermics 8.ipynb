{
 "cells": [
  {
   "cell_type": "markdown",
   "metadata": {},
   "source": [
    "## Exercise 8 Geothermics\n",
    "\n",
    "Since you have the data in the paper I am not going to be very concise.\n",
    "\n",
    "$ 2r_w = 15.2 \\,cm \\\\ z = 4756m$\n",
    "\n",
    "$T = 125.5º \\, t_2 = 9h \\\\ T = 129.6º \\, t_2 = 14h \\\\ T = 131.6º \\, t_2 = 18.3h\n",
    "$\n",
    "\n",
    "\n",
    "$ t_1 = 2h $\n",
    "\n",
    "### a) and b): Plot the values and calculate Q\n",
    "\n",
    "The formula of Horner is:\n",
    "\n",
    "$$T(t_1+t_2,r=0) = T_\\inf + \\frac{Q}{4\\lambda\\pi}\\ln({\\frac{t_1+t_2}{t_2}})$$\n",
    "\n",
    "First we should calculate the thermal diffusivity (k):\n",
    "\n",
    "$$ k = \\frac{\\text{Thermal conductivity}}{\\text{Volumetric heat capacity}} $$"
   ]
  },
  {
   "cell_type": "code",
   "execution_count": 1,
   "metadata": {
    "collapsed": false
   },
   "outputs": [],
   "source": [
    "# Importing some packages\n",
    "import numpy as np\n",
    "import math as mt\n",
    "import matplotlib as plt\n",
    "%matplotlib inline\n",
    "from mpl_toolkits.mplot3d import Axes3D"
   ]
  },
  {
   "cell_type": "code",
   "execution_count": 27,
   "metadata": {
    "collapsed": false
   },
   "outputs": [
    {
     "data": {
      "text/plain": [
       "<matplotlib.text.Text at 0xc0682b0>"
      ]
     },
     "execution_count": 27,
     "metadata": {},
     "output_type": "execute_result"
    },
    {
     "data": {
      "image/png": "[encoded data removed]",
      "text/plain": [
       "<matplotlib.figure.Figure at 0xc1e4c50>"
      ]
     },
     "metadata": {},
     "output_type": "display_data"
    }
   ],
   "source": [
    "# Times\n",
    "t1 = 2\n",
    "t2 = np.array([9.,14.,18.3]) # Actually once you have the vector you can just simply operate it without looping.\n",
    "                             # also in matlab :)\n",
    "\n",
    "x = np.log(1+t1/t2)\n",
    "\n",
    "# Temperatures\n",
    "Td = (125.5,129.6,131.6)\n",
    "\n",
    "# Code for plotting\n",
    "plt.plot(x,Td)\n",
    "plt.scatter(x, Td, s = 35)\n",
    "plt.xlabel(\"equilibration time / perturbation time\")\n",
    "plt.ylabel(\"Temperature\")"
   ]
  },
  {
   "cell_type": "code",
   "execution_count": 28,
   "metadata": {
    "collapsed": false
   },
   "outputs": [
    {
     "name": "stdout",
     "output_type": "stream",
     "text": [
      "The slope is-62.604871643 and the intersection 138.038681745\n"
     ]
    }
   ],
   "source": [
    "b = np.polyfit(x,T,1)   # y = a + xb    x = Q/4pi landa\n",
    "print \"The slope is\"+str(b[0])+ \" and the intersection \" + str(b[1]) "
   ]
  },
  {
   "cell_type": "markdown",
   "metadata": {},
   "source": [
    "Now using the slope eq: $$  x = Q/4 \\pi \\lambda$$\n",
    "we calculate Q."
   ]
  },
  {
   "cell_type": "code",
   "execution_count": 30,
   "metadata": {
    "collapsed": false
   },
   "outputs": [
    {
     "name": "stdout",
     "output_type": "stream",
     "text": [
      "Our Heat Flow is:  -1809.44684446 W/m\n"
     ]
    }
   ],
   "source": [
    "Q = 4*np.pi*2.3*b[0]\n",
    "print \"Our Heat Flow is: \", Q , \"W/m\""
   ]
  },
  {
   "cell_type": "markdown",
   "metadata": {
    "collapsed": false
   },
   "source": [
    "## c): Specific heat flow\n",
    "\n",
    "Here I am not very sure what means with basal specific heat flow BUT basically now we have the temperature $T_1 = 135ºC$ at depth 4600 m and we know from our graph (our intersection) the temperature $T_2 = 138.038681745$ at depth 4700 m. With that we calculate the thermal gradient that knowing the heat flow we can compute the specific heat flow (I am just the guy of Numerical Reservoir Engineer for complex \"wait but why\" questions of geothermics refers to Jan: 0146 34...)"
   ]
  },
  {
   "cell_type": "code",
   "execution_count": 31,
   "metadata": {
    "collapsed": false
   },
   "outputs": [
    {
     "name": "stdout",
     "output_type": "stream",
     "text": [
      "Basal specific heat flow is:  0.0448010770027  W/m^2\n"
     ]
    }
   ],
   "source": [
    "Thermal_g = (b[1]- 135)/(4756-4600)\n",
    "q = Thermal_g * 2.3\n",
    "print \"Basal specific heat flow is: \", q, \" W/m^2\""
   ]
  }
 ],
 "metadata": {
  "kernelspec": {
   "display_name": "Python 2",
   "language": "python",
   "name": "python2"
  },
  "language_info": {
   "codemirror_mode": {
    "name": "ipython",
    "version": 2
   },
   "file_extension": ".py",
   "mimetype": "text/x-python",
   "name": "python",
   "nbconvert_exporter": "python",
   "pygments_lexer": "ipython2",
   "version": "2.7.9"
  }
 },
 "nbformat": 4,
 "nbformat_minor": 0
}
