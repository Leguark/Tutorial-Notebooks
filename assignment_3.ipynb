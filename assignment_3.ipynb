{
 "cells": [
  {
   "cell_type": "markdown",
   "metadata": {},
   "source": [
    "Before you submit this assignment, make sure everything runs as you expect it to.  \n",
    "* **restart the kernel** (in the menubar, select Kernel -> Restart)\n",
    "* **run all cells** (in the menubar, select Cell -> Run All)\n",
    "\n",
    "Make sure to fill in any place that says \n",
    "```python\n",
    "# YOUR CODE HERE\n",
    "```\n",
    "and fill in your name (and of your fellow students, if you submit together), and according matriculation number below. If you are more than one student, separate by a comma **,**"
   ]
  },
  {
   "cell_type": "code",
   "execution_count": null,
   "metadata": {
    "collapsed": true
   },
   "outputs": [],
   "source": [
    "NAME = \"\"\n",
    "MATNMBR = \"\""
   ]
  },
  {
   "cell_type": "code",
   "execution_count": null,
   "metadata": {
    "collapsed": false
   },
   "outputs": [],
   "source": [
    "# use this cell to import further needed libraries. \n",
    "#But generally, these should suffice.\n",
    "\n",
    "import numpy as np\n",
    "import math as mt\n",
    "import matplotlib.pyplot as plt\n",
    "from mpl_toolkits.mplot3d import Axes3D\n",
    "%matplotlib inline\n",
    "\n",
    "import colormaps as cmaps\n",
    "plt.register_cmap(name='viridis', cmap=cmaps.viridis)\n",
    "plt.set_cmap(cmaps.viridis)\n",
    "\n",
    "from IPython.core.display import HTML\n",
    "css_file = 'nre2_style.css'\n",
    "HTML(open(css_file,'r').read())"
   ]
  },
  {
   "cell_type": "markdown",
   "metadata": {
    "collapsed": true
   },
   "source": [
    "# Assignment 2: Solving Laplace and Poisson problems\n",
    "### Due date: 20$^{th}$ of January\n",
    "\n",
    "This assignment is based on the examples that we discussed during the lecture and exercise 7. However, whereas we experimented only with 1-D\n",
    "examples so far, you will here extend solutions to 2-D\n",
    "problems and get one step closer to solving a typical reservoir\n",
    "engineering problem with the Finite Difference method.\n",
    "\n",
    "As for the last assignment, **you can work on this assignment alone\n",
    "or together with someone else in a group of two**. In the second\n",
    "case, it is sufficient if only one person submits the results, but\n",
    "please indicate clearly the name of the other person.\n",
    "\n",
    "The grade of this assignment counts **10\\% to the final mark**.\n",
    "\n",
    "Please submit your assignments per email to: \n",
    "<wellmann@aices.rwth-aachen.de>\n",
    "\n",
    "Include all programming parts, the figures, and answers to the\n",
    "questions in one **Jupyter notebook** and send it per mail."
   ]
  },
  {
   "cell_type": "markdown",
   "metadata": {
    "nbgrader": {
     "grade": false,
     "locked": false,
     "solution": false
    }
   },
   "source": [
    "## Theory\n",
    "In the lecture, we discussed several typical problems that occur in a\n",
    "reservoir engineering context and which can be described with the\n",
    "Laplace equation:  \n",
    "\n",
    "  $$\\nabla^2 u = 0 $$\n",
    "  $$\\frac{\\partial^2 u}{\\partial x^2} + \\frac{\\partial^2 u}{\\partial y^2}\n",
    "= 0$$\n",
    "\n",
    "Note that the first equation is the general notation using the Laplace\n",
    "operator ($\\nabla^2$), and the second equation the form for a 2-D\n",
    "cartesian coordinate system that we will use in this assignment.\n",
    "\n",
    "If we consider source/ sink terms, we include them as terms on\n",
    "the right-hand-side and obtain a Poisson equation of the form:\n",
    "\n",
    "$$ \\nabla^2 u = q $$\n",
    "    $$ \\frac{\\partial^2 u}{\\partial x^2} + \\frac{\\partial^2 u}{\\partial y^2} = q $$\n",
    "\n",
    "where $q$ now denotes the additional source/ sink term in the system.\n",
    "\n",
    "We discussed several possibilities to solve 1-D Laplace equations\n",
    "during the exercise.  In this assignment, you will now develop Python\n",
    "code to extend the programs to solve 2-D problems.\n",
    "\n",
    "For simplicity, we will so far restrict our analysis to a spatial\n",
    "discretisation into a regular grid in x- and y-direction, i.e.:\n",
    "$\\Delta x$ and $\\Delta y$ are constant for all cells (Note, however,\n",
    "that we will consider $\\Delta x \\ne \\Delta y$).\n",
    "\n",
    "With this assumption, we obtain the finite difference discretisation\n",
    "of the 2-D Poisson equation ($\\nabla^2 u = q$) with a five-point\n",
    "stencil (see lecture) as:\n",
    "\n",
    "$$\\frac{u_{i-1,j} - 2 u_{i,j} + u_{i+1,j}}{\\Delta x^2} +\n",
    "\\frac{u_{i,j-1} - 2 u_{i,j} + u_{i,j+i}}{\\Delta y^2} = q_{i,j}\n",
    "$$\n",
    "\n",
    "We can solve this equation for $u_{i,j}$ to obtain:\n",
    "\n",
    "$$  u_{i,j} = \\frac{\\Delta y^2 (u_{i-1,j} + u_{i+1,j}) + \\Delta x^2 (u_{i,j-1} + u_{i,j+1}) - \\Delta x^2 \\Delta y^2 q_{i,j}}{2 (\\Delta\n",
    "x^2 + \\Delta y^2)} $$\n",
    "\n",
    "Instead of using the full matrix inversion, we can use iterative\n",
    "methods to solve the problem step-by-step by repeatedly applying this\n",
    "equation to all nodes $(i,j)$ in the problem.\n",
    "\n",
    "---\n",
    "\n",
    "## Iterative solvers\n",
    "\n",
    "We discussed the implementation of two iterative methods to solve\n",
    "systems of algebraic equations during the exercise:\n",
    "* The Jacobi method which is the straight-forward method where we\n",
    "  iteratively solve the previous equation $u_{i,j}$ to calculate the\n",
    "  next iteration of a value $u_{i,j}^{n+1}$ for all points\n",
    "  using the point values $u_{i,j}^{n}$ from the previous iteration.\n",
    "* The Gauss-Seidel method which is very similar to the Jacobi\n",
    "  method, but makes use of information on grid points that have been\n",
    "  updated previously (and often leads to faster convergence).\n",
    "\n",
    "You can use any one of these solvers in this exercise. However, it is\n",
    "instructive to implement and compare both - the difference in code\n",
    "that you have to write is actually really small (only changes in one\n",
    "or two lines of code!).\n",
    "\n",
    "As convergence criterium, we will use the L2-norm:\n",
    "\n",
    "$$\\epsilon = \\sqrt{\\sum_{i,j} \\left(u_{i,j}^{n+1} - u_{i,j}^n \\right)^2} $$\n",
    "\n",
    "Many of these aspects were discussed and implemented in the example\n",
    "notebook and you will be able to re-use several parts of your code for\n",
    "this assignment. However, you will need to extend all equations and\n",
    "routines (and boundary conditions) to solve 2-D problems."
   ]
  },
  {
   "cell_type": "markdown",
   "metadata": {},
   "source": [
    "### Assignment task 1\n",
    "#### Write a function for one iteration of the Poisson equation\n",
    "##### ( 5 Points)\n",
    "\n",
    "As a first step, write a function to solve a single iteration of the\n",
    "Poisson equation by writing a Python function for\n",
    "Equation $u_{i,j}$ for a 2-D array $u$.\n",
    "\n",
    "Your function could look like this:\n",
    "```python\n",
    "def poisson_iteration(u, q, dx, dy):\n",
    "    \"\"\"Perform a single iteration for the 2-D poisson equation\"\"\"\n",
    "    # your code follows here\n",
    "\n",
    "    return u # do not forget to return the updated 2-D array!\n",
    "```\n",
    "\n",
    "Hint: there are several ways to write this function. If you are\n",
    "worried about efficiency (as we mostly are when solving problems\n",
    "numerically), then think about the discussion we had about\n",
    "`for` loops and vectorised (`numpy`) methods!"
   ]
  },
  {
   "cell_type": "code",
   "execution_count": null,
   "metadata": {
    "collapsed": true,
    "deletable": false,
    "nbgrader": {
     "checksum": "42346b1002d3ad9c52a7632f7d0fe02e",
     "grade": true,
     "grade_id": "poisson_iter",
     "locked": false,
     "points": 5,
     "solution": true
    }
   },
   "outputs": [],
   "source": [
    "def poisson_iteration(u, q, dx, dy):\n",
    "    \"\"\"Perform a single iteration for the 2-D poisson equation\"\"\"\n",
    "    # YOUR CODE HERE\n",
    "    raise NotImplementedError()"
   ]
  },
  {
   "cell_type": "markdown",
   "metadata": {},
   "source": [
    "### Assignment task 2\n",
    "#### Solve Laplace equation 2-D\n",
    "##### (10 Points)\n",
    "\n",
    "Extend your code from the exercise notebook now completely to a 2-D\n",
    "problem, including the settings for boundary conditions.  Set-up your\n",
    "program to solve the Laplace equation for the problem shown in the figure. \n",
    "\n",
    "<img src=\"nre2_assignment_2.png\">\n",
    "\n",
    "Your task is to simulate a rectangular area with an extent of $x_{max}$ in x-direction, and $y_{max}$ in\n",
    "y-direction. Dirichlet boundary conditions are assigned at the left\n",
    "and right side, and Neumann boundary conditions at the top and bottom\n",
    "end. Values for all relevant parameter and convergence settings are\n",
    "given in the following table:\n",
    "\n",
    "Parameter|Description|Value\n",
    ":-:|:-:|-:\n",
    "|**Geometric properties**|\n",
    "$x_{max}$|Extent in x-direction|100.\n",
    "$y_{max}$|Extent in y-direction|50.\n",
    "nx|Number of cells in x-direction|200\n",
    "ny|Number of cells in y-direction|100\n",
    "|**Boundary conditions**|\n",
    "$u_0$|Dirichlet value on left edge|15.\n",
    "$u_1$|Dirichlet value on right edge|10.\n",
    "$q_0$|Neumann flux on bottom edge|0. (no flow)\n",
    "$q_1$|Neumann flux on top edge|0.25\n",
    "$k$|Generic conductivity|1.\n",
    "|**Convergence settings**|\n",
    "$n_{max}$|Maximum number of iterations|$10^6$\n",
    "$\\epsilon_{tol}$|Tolerance level for convergence|$10^{-4}$\n",
    "\n",
    "Here are some hints and steps that you might want to follow:\n",
    "* Adjust arrays to 2-D and initialise properly\n",
    "* Adjust boundary conditions correctly so that they affect the _entire_ edges\n",
    "* Make sure that you calculate the convergence for all values (the numpy method `ravel()` might be of help).\n",
    "\n",
    "---\n",
    "\n",
    "If you implemented the function in the previous task correctly, then this task should not be too much work!  \n",
    "Create a plot to show your results. You can either create a contour plot, or an image plot, or an perspective plot - whatever you think is appropriate to show the results.  \n",
    "\n",
    "<center>**Don't forget to include labels, title and colorbar for full points.**</center>\n",
    "\n",
    "_Note_: If you want to create a surface plot (which does give a nice presentation, in my point of view) and are getting wrong dimensions from `meshgrid`, try adding the keyword _indexing_:\n",
    "```python\n",
    "X, Y = np.meshgrid(x, y, indexing=\"ij\")\n",
    "```\n"
   ]
  },
  {
   "cell_type": "code",
   "execution_count": null,
   "metadata": {
    "collapsed": true,
    "deletable": false,
    "nbgrader": {
     "checksum": "d15158152b38178502c6f8a557443716",
     "grade": false,
     "grade_id": "input",
     "locked": true,
     "solution": false
    }
   },
   "outputs": [],
   "source": [
    "# These are the parameters used for your 2D laplace equation (see table above)\n",
    "xmax = 100.\n",
    "ymax = 50.\n",
    "nx = 200\n",
    "ny = 100\n",
    "u0 = 15.\n",
    "u1 = 10.\n",
    "q0 = 0.\n",
    "q1 = 0.25\n",
    "k = 1.\n",
    "nmax = 1e6\n",
    "epsilon = 1e-4"
   ]
  },
  {
   "cell_type": "code",
   "execution_count": null,
   "metadata": {
    "collapsed": false,
    "deletable": false,
    "nbgrader": {
     "checksum": "dffb662ce0a5343d5c121c5de7cab0f9",
     "grade": true,
     "grade_id": "2D_laplace",
     "locked": false,
     "points": 5,
     "solution": true
    }
   },
   "outputs": [],
   "source": [
    "def solve_laplace(xmax,ymax,nx,ny,u0,u1,q0,q1,k,nmax,epsilon,qsource=None):\n",
    "    \"\"\"\n",
    "    Solves a 2D problem using the laplace equation.\n",
    "    Inputs-variable definitions in table:\n",
    "    geometry: array with [xmax,ymax,nx,ny]\n",
    "    bc: array wich [u0, u1, q0, q1, k]\n",
    "    conv: array with [nmax,epsilon]\n",
    "    \"\"\"\n",
    "    # YOUR CODE HERE\n",
    "    raise NotImplementedError()"
   ]
  },
  {
   "cell_type": "markdown",
   "metadata": {},
   "source": [
    "Now plot the results of the 2-D Laplace equation (for full points, make sure to include all labels, titels, colorbar, etc.):"
   ]
  },
  {
   "cell_type": "code",
   "execution_count": null,
   "metadata": {
    "collapsed": false,
    "deletable": false,
    "nbgrader": {
     "checksum": "d597fa51614162d6906a7ede8fbb885a",
     "grade": true,
     "grade_id": "plot_laplace",
     "locked": false,
     "points": 5,
     "solution": true
    }
   },
   "outputs": [],
   "source": [
    "# YOUR CODE HERE\n",
    "raise NotImplementedError()"
   ]
  },
  {
   "cell_type": "markdown",
   "metadata": {
    "deletable": false,
    "nbgrader": {
     "checksum": "697f7ec6a235856f51a28d2fd4a6e622",
     "grade": false,
     "grade_id": "Question2_2",
     "locked": true,
     "solution": false
    }
   },
   "source": [
    "You solved the Laplace equation for a generic setting. Describe a reservoir engineering problem that could be simulated with this set-up. What would $u$,$q$, and the boundary conditions mean in your specific example?"
   ]
  },
  {
   "cell_type": "markdown",
   "metadata": {
    "deletable": false,
    "nbgrader": {
     "checksum": "202b71d6669f67676ef0b0f98031b9f9",
     "grade": true,
     "grade_id": "Ans_Q2_2",
     "locked": false,
     "points": 2,
     "solution": true
    }
   },
   "source": [
    "YOUR ANSWER HERE"
   ]
  },
  {
   "cell_type": "markdown",
   "metadata": {},
   "source": [
    "### Assignment task 3 \n",
    "#### Add a source and a sink\n",
    "##### (5 Points)\n",
    "\n",
    "Adapt your code to simulate the effect of a source and a sink.  \n",
    "(_Note_: if you implemented the function in [Task 1](#Assignment task 1) correctly, then this is a matter of adding two/three lines of code!)  \n",
    "\n",
    "_Hint_: Now, **`source is not == None`**, so modify your function accordingly, e.g. with an `if`statement.\n",
    "\n",
    "The properties for the sources are given in the following table:  \n",
    "\n",
    "Position x|Position y| $q$  \n",
    ":-|:-|-:  \n",
    "0.25  $\\cdot \\, x_{max}$|0.25 $\\cdot \\, y_{max}$|25.  \n",
    "0.75 $\\cdot \\, x_{max}$|0.75 $\\cdot \\, y_{max}$|-25.  "
   ]
  },
  {
   "cell_type": "code",
   "execution_count": null,
   "metadata": {
    "collapsed": false,
    "deletable": false,
    "nbgrader": {
     "checksum": "febc45f443d2930f11a300c8599e7997",
     "grade": true,
     "grade_id": "laplace_source",
     "locked": false,
     "points": 5,
     "solution": true
    }
   },
   "outputs": [],
   "source": [
    "def solve_laplace(xmax,ymax,nx,ny,u0,u1,q0,q1,k,nmax,epsilon,qsource=None):\n",
    "    \"\"\"\n",
    "    Solves a 2D problem using the laplace equation.\n",
    "    Inputs-variable definitions in table:\n",
    "    geometry: array with [xmax,ymax,nx,ny]\n",
    "    bc: array wich [u0, u1, q0, q1, k]\n",
    "    conv: array with [nmax,epsilon]\n",
    "    qsource: list with source - sink terms (None if no source/sink)\n",
    "    \"\"\"\n",
    "    # YOUR CODE HERE\n",
    "    raise NotImplementedError()"
   ]
  },
  {
   "cell_type": "markdown",
   "metadata": {
    "collapsed": false
   },
   "source": [
    "Create a plot of your choice to visualise the results.  \n",
    "Call the altered function ```solve_laplace```, now with a list ```qsource```, including x-position, y-position, and value of source and sink."
   ]
  },
  {
   "cell_type": "code",
   "execution_count": null,
   "metadata": {
    "collapsed": false,
    "deletable": false,
    "nbgrader": {
     "checksum": "0c5446e522674d8d5e11c8f6f7b5ab4e",
     "grade": true,
     "grade_id": "Plot2_3",
     "locked": false,
     "points": 2,
     "solution": true
    }
   },
   "outputs": [],
   "source": [
    "# YOUR CODE HERE\n",
    "raise NotImplementedError()"
   ]
  },
  {
   "cell_type": "markdown",
   "metadata": {
    "deletable": false,
    "nbgrader": {
     "checksum": "4eb7b88be3a6e7d129c965cb95871073",
     "grade": false,
     "grade_id": "Question2_3",
     "locked": true,
     "solution": false
    }
   },
   "source": [
    "Does a positive $q$ value (see table above) give a source or a sink? Why?"
   ]
  },
  {
   "cell_type": "markdown",
   "metadata": {
    "deletable": false,
    "nbgrader": {
     "checksum": "2d851106d72c5df5194a6b8d771c4121",
     "grade": true,
     "grade_id": "Ans_Question2_3",
     "locked": false,
     "points": 1,
     "solution": true
    }
   },
   "source": [
    "YOUR ANSWER HERE"
   ]
  }
 ],
 "metadata": {
  "kernelspec": {
   "display_name": "Python 2",
   "language": "python",
   "name": "python2"
  },
  "language_info": {
   "codemirror_mode": {
    "name": "ipython",
    "version": 2
   },
   "file_extension": ".py",
   "mimetype": "text/x-python",
   "name": "python",
   "nbconvert_exporter": "python",
   "pygments_lexer": "ipython2",
   "version": "2.7.10"
  }
 },
 "nbformat": 4,
 "nbformat_minor": 0
}