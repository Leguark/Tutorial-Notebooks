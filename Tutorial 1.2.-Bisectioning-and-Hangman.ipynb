{
 "cells": [
  {
   "cell_type": "markdown",
   "metadata": {},
   "source": [
    "# Assignment 1: Conditionals and loops"
   ]
  },
  {
   "cell_type": "markdown",
   "metadata": {},
   "source": [
    "## Bisectioning. ## \n",
    "\n",
    "In this problem, you'll create a program that guesses a secret number!\n",
    "\n",
    "The program works as follows: you (the user) thinks of an integer between 0 (inclusive) and 100 (not inclusive). The computer makes guesses, and you give it input - is its guess too high or too low? Using bisection search, the computer will guess the user's secret number!\n",
    "\n",
    "Here is a transcript of an example session:\n",
    "\n",
    "*Please think of a number between 0 and 100!<br /> \n",
    "Is your secret number 50?<br /> \n",
    "Enter 'h' to indicate the guess is too high. Enter 'l' to indicate the guess is too low. Enter 'c' to indicate I guessed correctly. <br />**This is imput! ->  **l<br /> \n",
    "Is your secret number 75<br /> \n",
    "Enter 'h' to indicate the guess is too high. Enter 'l' to indicate the guess is too low. Enter 'c' to indicate I guessed correctly.<br /> l<br /> \n",
    "Is your secret number 87?<br /> \n",
    "Enter 'h' to indicate the guess is too high. Enter 'l' to indicate the guess is too low. Enter 'c' to indicate I guessed correctly. <br />h<br /> \n",
    "Is your secret number 81?<br /> \n",
    "Enter 'h' to indicate the guess is too high. Enter 'l' to indicate the guess is too low. Enter 'c' to indicate I guessed correctly.<br /> l<br /> \n",
    "Is your secret number 84?<br /> \n",
    "Enter 'h' to indicate the guess is too high. Enter 'l' to indicate the guess is too low. Enter 'c' to indicate I guessed correctly.<br /> h<br /> \n",
    "Is your secret number 82?<br /> \n",
    "Enter 'h' to indicate the guess is too high. Enter 'l' to indicate the guess is too low. Enter 'c' to indicate I guessed correctly.<br /> l<br /> \n",
    "Is your secret number 83?<br /> \n",
    "Enter 'h' to indicate the guess is too high. Enter 'l' to indicate the guess is too low. Enter 'c' to indicate I guessed correctly.<br /> c<br /> \n",
    "Game over. Your secret number was: 83*\n",
    "\n",
    "Your program should use bisection search. So think carefully what that means. What will the first guess always be? How should you calculate subsequent guesses?\")\n",
    "\n",
    "Note: your program should be using **raw_input** to obtain the user's input! Be sure to handle the case when the user's input is not one of h, l, or c.\n",
    "\n",
    "When the user enters something invalid, you should print out a message to the user explaining you did not understand their input. Then, you should re-ask the question, and prompt again for input. For example:\n",
    "\n",
    "*Is your secret number 91? <br>\n",
    "Enter 'h' to indicate the guess is too high. Enter 'l' to indicate the guess is too low. Enter 'c' to indicate I guessed correctly. y<br>\n",
    "**Sorry, I did not understand your input.**<br>\n",
    "Is your secret number 91?<br>\n",
    "Enter 'h' to indicate the guess is too high. Enter 'l' to indicate the guess is too low. Enter 'c' to indicate I guessed correctly. c*\n",
    "\n",
    "Hint: Google these functions! *elif*, *break*"
   ]
  },
  {
   "cell_type": "markdown",
   "metadata": {},
   "source": [
    "Hint: if the raw_input enters to an endless loop you have to restart the kernel"
   ]
  },
  {
   "cell_type": "code",
   "execution_count": null,
   "metadata": {
    "collapsed": true
   },
   "outputs": [],
   "source": [
    "print \"Please think of a number between 0 and 100!\"\n",
    "low = 0.\n",
    "high = 100.\n",
    "ans = (high-low)/2+low\n",
    "previous_ans = ans\n",
    "while True:\n",
    "    print \"Is your secret number \" +str(int(ans))+ \"?\"\n",
    "    i = raw_input(\"Enter 'h' to indicate the guess is too high. Enter 'l' to indicate the guess is too low. Enter 'c' to indicate I guessed correctly.\"\n",
    "#Your code here"
   ]
  },
  {
   "cell_type": "markdown",
   "metadata": {},
   "source": [
    "## A WORDGAME: HANGMAN\n",
    "\n",
    "#### HANGMAN PART 1: IS THE WORD GUESSED? \n",
    "\n",
    "\n",
    "We'll start by writing 3 simple functions that will help us easily code the Hangman problem. First, implement the function isWordGuessed that takes in two parameters - a string, secretWord, and a list of letters, lettersGuessed. This function returns a boolean - True if secretWord has been guessed (ie, all the letters of secretWord are in lettersGuessed) and False otherwise.\n",
    "\n",
    "Example Usage:\n",
    "\n",
    "> secretWord = 'apple' <br>\n",
    "> lettersGuessed = ['e', 'i', 'k', 'p', 'r', 's'] <br>\n",
    "> print isWordGuessed(secretWord, lettersGuessed) <br>\n",
    "False\n",
    "\n",
    "For this function, you may assume that all the letters in secretWord and lettersGuessed are lowercase."
   ]
  },
  {
   "cell_type": "code",
   "execution_count": null,
   "metadata": {
    "collapsed": true
   },
   "outputs": [],
   "source": [
    "def isWordGuessed(secretWord, lettersGuessed):\n",
    "    '''\n",
    "    secretWord: string, the word the user is guessing\n",
    "    lettersGuessed: list, what letters have been guessed so far\n",
    "    returns: boolean, True if all the letters of secretWord are in lettersGuessed;\n",
    "      False otherwise\n",
    "    '''\n",
    "    # FILL IN YOUR CODE HERE...\n"
   ]
  },
  {
   "cell_type": "markdown",
   "metadata": {},
   "source": [
    "#### PRINTING OUT THE USER'S GUESS  \n",
    "Next, implement the function getGuessedWord that takes in two parameters - a string, secretWord, and a list of letters, lettersGuessed. This function returns a string that is comprised of letters and underscores, based on what letters in lettersGuessed are in secretWord. This shouldn't be too different from isWordGuessed!\n",
    "\n",
    "Example Usage:\n",
    "\n",
    "> secretWord = 'apple' <br> \n",
    "> lettersGuessed = ['e', 'i', 'k', 'p', 'r', 's']<br>\n",
    "> print getGuessedWord(secretWord, lettersGuessed)<br>\n",
    "'_ pp_ e'<br>\n",
    "\n",
    "When inserting underscores into your string, it's a good idea to add at least a space after each one, so it's clear to the user how many unguessed letters are left in the string (compare the readability of ____ with _ _ _ _ ). This is called usability - it's very important, when programming, to consider the usability of your program. If users find your program difficult to understand or operate, they won't use it!\n",
    "\n",
    "For this problem, you are free to use spacing in any way you wish - our grader will only check that the letters and underscores are in the proper order; it will not look at spacing. We do encourage you to think about usability when designing.\n",
    "\n",
    "For this function, you may assume that all the letters in secretWord and lettersGuessed are lowercase."
   ]
  },
  {
   "cell_type": "code",
   "execution_count": null,
   "metadata": {
    "collapsed": true
   },
   "outputs": [],
   "source": [
    "def getGuessedWord(secretWord, lettersGuessed):\n",
    "    '''\n",
    "    secretWord: string, the word the user is guessing\n",
    "    lettersGuessed: list, what letters have been guessed so far\n",
    "    returns: string, comprised of letters and underscores that represents\n",
    "      what letters in secretWord have been guessed so far.\n",
    "    '''\n",
    "    # FILL IN YOUR CODE HERE...\n"
   ]
  },
  {
   "cell_type": "markdown",
   "metadata": {},
   "source": [
    "#### PRINTING OUT ALL AVAILABLE LETTERS  \n",
    "Next, implement the function getAvailableLetters that takes in one parameter - a list of letters, lettersGuessed. This function returns a string that is comprised of lowercase English letters - all lowercase English letters that are not in lettersGuessed.\n",
    "\n",
    "Example Usage:\n",
    "\n",
    "> lettersGuessed = ['e', 'i', 'k', 'p', 'r', 's']<br>\n",
    "print getAvailableLetters(lettersGuessed)<br>\n",
    "abcdfghjlmnoqtuvwxyz<br>\n",
    "\n",
    "\n",
    "Note that this function should return the letters in alphabetical order, as in the example above.\n",
    "\n",
    "For this function, you may assume that all the letters in lettersGuessed are lowercase.\n",
    "\n",
    "Hint: You might consider using string.ascii_lowercase, which is a string comprised of all lowercase letters:\n"
   ]
  },
  {
   "cell_type": "code",
   "execution_count": 2,
   "metadata": {
    "collapsed": false
   },
   "outputs": [
    {
     "name": "stdout",
     "output_type": "stream",
     "text": [
      "abcdefghijklmnopqrstuvwxyz\n"
     ]
    }
   ],
   "source": [
    "import string\n",
    "print string.ascii_lowercase"
   ]
  },
  {
   "cell_type": "code",
   "execution_count": null,
   "metadata": {
    "collapsed": true
   },
   "outputs": [],
   "source": [
    "def getAvailableLetters(lettersGuessed):\n",
    "    '''\n",
    "    lettersGuessed: list, what letters have been guessed so far\n",
    "    returns: string, comprised of letters that represents what letters have not\n",
    "      yet been guessed.\n",
    "    '''\n",
    "    # FILL IN YOUR CODE HERE...\n"
   ]
  },
  {
   "cell_type": "markdown",
   "metadata": {},
   "source": [
    "#### HANGMAN PART 2: THE GAME  \n",
    "\n",
    "Now you will implement the function *hangman*, which takes one parameter - the *secretWord* the user is to guess. This starts up an interactive game of Hangman between the user and the computer. Be sure you take advantage of the three helper functions, *isWordGuessed, getGuessedWord*, and *getAvailableLetters*, that you've defined in the previous part.\n",
    "\n",
    "\n",
    "Consider using lower() to convert user input to lower case. For example:\n",
    "\n",
    "guess = 'A'\n",
    "guessInLowerCase = guess.lower()\n",
    "Consider writing additional helper functions if you need them!\n",
    "\n",
    "There are four important pieces of information you may wish to store:\n",
    "\n",
    "- *secretWord*: The word to guess.\n",
    "- *lettersGuessed*: The letters that have been guessed so far.\n",
    "- *mistakesMade*: The number of incorrect guesses made so far.\n",
    "- *availableLetters*: The letters that may still be guessed. \n",
    "\n",
    "Every time a player guesses a letter, the guessed letter must be removed from *availableLetters* (and if they guess a letter that is not in *availableLetters*, you should print a message telling them they've already guessed that - so try again!).\n",
    "\n",
    "Note that if you choose to use the helper functions *isWordGuessed, getGuessedWord*, or *getAvailableLetters*, you do not need to paste your definitions in the box. We have supplied our implementations of these functions for your use in this part of the problem. If you use additional helper functions, you will need to paste those definitions here.\n",
    "\n",
    "Your function should include calls to *raw_input* to get the user's guess."
   ]
  },
  {
   "cell_type": "code",
   "execution_count": null,
   "metadata": {
    "collapsed": true
   },
   "outputs": [],
   "source": [
    "def hangman(secretWord):\n",
    "    '''\n",
    "    secretWord: string, the secret word to guess.\n",
    "\n",
    "    Starts up an interactive game of Hangman.\n",
    "\n",
    "    * At the start of the game, let the user know how many \n",
    "      letters the secretWord contains.\n",
    "\n",
    "    * Ask the user to supply one guess (i.e. letter) per round.\n",
    "\n",
    "    * The user should receive feedback immediately after each guess \n",
    "      about whether their guess appears in the computers word.\n",
    "\n",
    "    * After each round, you should also display to the user the \n",
    "      partially guessed word so far, as well as letters that the \n",
    "      user has not yet guessed.\n",
    "\n",
    "    Follows the other limitations detailed in the problem write-up.\n",
    "    '''\n",
    "    # FILL IN YOUR CODE HERE...\n"
   ]
  }
 ],
 "metadata": {
  "kernelspec": {
   "display_name": "Python 2",
   "language": "python",
   "name": "python2"
  },
  "language_info": {
   "codemirror_mode": {
    "name": "ipython",
    "version": 2
   },
   "file_extension": ".py",
   "mimetype": "text/x-python",
   "name": "python",
   "nbconvert_exporter": "python",
   "pygments_lexer": "ipython2",
   "version": "2.7.9"
  }
 },
 "nbformat": 4,
 "nbformat_minor": 0
}
