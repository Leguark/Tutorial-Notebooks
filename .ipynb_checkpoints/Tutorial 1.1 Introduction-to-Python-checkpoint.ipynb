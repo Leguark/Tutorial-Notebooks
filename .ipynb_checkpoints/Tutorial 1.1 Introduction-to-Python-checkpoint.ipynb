{
 "cells": [
  {
   "cell_type": "markdown",
   "metadata": {},
   "source": [
    "# Introduction to Python - aka Python for Dummies® - Python3 Version"
   ]
  },
  {
   "cell_type": "markdown",
   "metadata": {},
   "source": [
    "\n",
    "-----------\n",
    "\n"
   ]
  },
  {
   "cell_type": "markdown",
   "metadata": {},
   "source": [
    "Welcome to IPyhton! IPython is an extension to Python that includes a whole set of new features. One of those are the IPython notebooks - and you are (obviously) in one, now!\n",
    "\n",
    "These notebooks are a convenient front-end to IPython, but also enable the inclusion of inline plots and, as you can see, text. Notebooks are very versatile. It is, for example, possible to convert an entire notebook into a PDF document, or to create a (javascript based) slide show from a notebook.\n",
    "\n",
    "We will use notebooks in this class as the main programming \"environment\". So let's have a look at a couple of features.\n",
    "\n",
    "### Notebook cells\n",
    "-----\n",
    "\n",
    "Basically, notebooks consist of cells that are either code cells or text cells. A code cell can contain multiple code lines. If you want to execute code in a cell, press: <br> `Shift + Enter`.\n",
    "Try it out:"
   ]
  },
  {
   "cell_type": "code",
   "execution_count": 24,
   "metadata": {
    "collapsed": false
   },
   "outputs": [
    {
     "name": "stdout",
     "output_type": "stream",
     "text": [
      "2 + 3 is 5\n"
     ]
    }
   ],
   "source": [
    "a = 2\n",
    "b = 3\n",
    "c = a + b\n",
    "print(\"%d + %d is %d\" %(a,b,c))"
   ]
  },
  {
   "cell_type": "markdown",
   "metadata": {},
   "source": [
    "More information on IPython notebooks\n",
    "------------\n",
    "For more information in IPython notebook cells, the mouse functions and keyboard shortcuts for faster editing of cells, see:\n",
    "\n",
    "http://nbviewer.ipython.org/github/ipython/ipython/blob/2.x/examples/Notebook/User%20Interface.ipynb\n",
    "\n",
    "and\n",
    "\n",
    "http://ipython.org/ipython-doc/2/interactive/tutorial.html\n",
    "\n",
    "    \n"
   ]
  },
  {
   "cell_type": "markdown",
   "metadata": {},
   "source": [
    "## Preliminary: importing Python libraries\n",
    "\n",
    "Before we get started with the Python extension packages, a quick introduction into how these packages/ libraries are actually included in your program. In the last exercise notebook, you already saw the implementation:\n",
    "\n",
    "    from pylab import *\n",
    "    \n",
    "This line imports all the functions from the `pylab` library into the current program. More specifically, it imports all the functions into the current namespace. This means that you can call any function from that library directly in your program. As an example, in the last exercise notebook we then used the `plot` command from this library:\n",
    "\n",
    "    plot(random_numbers, 'o')\n",
    "    \n",
    "Although it is very convenient to have the functions readily available in the same namespace, it can cause serious problems - especially if functions with a name are imported that already exist in the namespace. In this case, confusion is guaranteed!\n",
    "\n",
    "So, the safer way is to import either:\n",
    "\n",
    "1. only single functions from a library:\n",
    "    \n",
    "        from numpy.random import randint\n",
    "    \n",
    "2. to import the library with its own reference namespace, e.g.:\n",
    "\n",
    "        import numpy\n",
    "    \n",
    "For the case of the second implementation, the functions of the libraries can then be accessed with the dot-notation, e.g.:\n",
    "\n",
    "    numpy.array([2,3])\n",
    "    \n",
    "We will see a lot more examples below. A convenient method is to abbreviate the imported library with an alias name. For example, very commonly used is:\n",
    "\n",
    "    import numpy as np\n",
    "\n",
    "The functions can then be accessed with:\n",
    "\n",
    "    np.array([2,3])\n",
    "    \n",
    "Depending on how often you have to use a specific function, this method can save quite a bit of time. Just make sure that you use a meaningful name as alias - and that you do not accidentally overwrite a variable you created before...\n",
    "\n",
    "Try out those methods for module import:"
   ]
  },
  {
   "cell_type": "code",
   "execution_count": 25,
   "metadata": {
    "collapsed": true
   },
   "outputs": [],
   "source": [
    "import numpy as np"
   ]
  },
  {
   "cell_type": "markdown",
   "metadata": {},
   "source": [
    "## Conditionals ##\n",
    "\n",
    "#### Theory\n",
    "\n",
    "Branching\tprograms\n",
    "\n",
    "• The\tsimplest branching statement is a **conditional**, a\ttest\t(expression\tthat evaluates\tto\tTrue or\tFalse):\t\n",
    "- A\tblock\tof\tcode\tto\texecute\tif\tthe\ttest\tis\t-> True\n",
    "- An\toptional\tblock\tof\tcode to\texecute\tif\tthe\ttest\tis\t-> False\n",
    "\n",
    "#### Example:\n",
    "\n",
    "Add a value to the x variable in the next cell"
   ]
  },
  {
   "cell_type": "code",
   "execution_count": 61,
   "metadata": {
    "collapsed": false
   },
   "outputs": [
    {
     "name": "stdout",
     "output_type": "stream",
     "text": [
      "Enter an integer: 2.0\n",
      "\n",
      "Even\n",
      "Done with conditional\n"
     ]
    }
   ],
   "source": [
    "x = input('Enter an integer: ')\n",
    "\n",
    "if x%2 == 0:\n",
    "    print(\"\")\n",
    "    print('Even')\n",
    "else:\n",
    "    print(\"\")\n",
    "    print('Odd')\n",
    "print(\"Done with conditional\")"
   ]
  },
  {
   "cell_type": "markdown",
   "metadata": {},
   "source": [
    "#### Exercise 1\n",
    "Write a piece of Python code that prints out the string 'hello world' if the value of an integer variable, *happy*, is strictly greater than 2. \n",
    "\n",
    "\n",
    "Our automated testing (ok, we are not the MIT but is functional) will provide a value of happy for you - so write your code in the following box assuming happy is already defined."
   ]
  },
  {
   "cell_type": "code",
   "execution_count": 37,
   "metadata": {
    "collapsed": false
   },
   "outputs": [
    {
     "name": "stdout",
     "output_type": "stream",
     "text": [
      "The value of happy is: 3\n"
     ]
    }
   ],
   "source": [
    "happy = np.random.randint(0,5)\n",
    "print(\"The value of happy is: %d\" % happy)\n",
    "#Your code here\n",
    "\n"
   ]
  },
  {
   "cell_type": "markdown",
   "metadata": {},
   "source": [
    "#### Exercise 2\n",
    "\n",
    "Assume that two variables, *varA* and *varB*, are assigned values, either numbers or strings.\n",
    "\n",
    "Write a piece of Python code that prints out one of the following messages:\n",
    "\n",
    "- \"string involved\" if either *varA* or *varB* are strings\n",
    "\n",
    "- \"bigger\" if *varA* is larger than *varB*\n",
    "\n",
    "- \"equal\" if *varA* is equal to *varB*\n",
    "\n",
    "- \"smaller\" if *varA* is smaller than *varB*\n",
    "\n",
    "Our automating testing will provide values of varA and varB for you - so write your code in the following box assuming varA and varB are already defined."
   ]
  },
  {
   "cell_type": "code",
   "execution_count": 30,
   "metadata": {
    "collapsed": false
   },
   "outputs": [
    {
     "name": "stdout",
     "output_type": "stream",
     "text": [
      "valA is:  8\n",
      "valB is:  15\n"
     ]
    }
   ],
   "source": [
    "import numpy as np\n",
    "\n",
    "x = [2,2,2,2,2,2,8,9,3,15,-66,\"nana\", \"duck\"]\n",
    "y = [2,2,2,2,2,2,15,-4-6,0,\"nana\", \"Donaudampfschiffahrtsgesellschaftskapitän\"] #that exists\n",
    "\n",
    "valA = x[np.random.randint(0,len(x))]\n",
    "valB = y[np.random.randint(0,len(y))]\n",
    "print(\"valA is: \" ,valA)\n",
    "print(\"valB is: \" ,valB)\n",
    "# Your code here\n"
   ]
  },
  {
   "cell_type": "markdown",
   "metadata": {},
   "source": [
    "-----------------"
   ]
  },
  {
   "cell_type": "code",
   "execution_count": 31,
   "metadata": {
    "collapsed": false
   },
   "outputs": [
    {
     "name": "stdout",
     "output_type": "stream",
     "text": [
      "a is a string\n"
     ]
    }
   ],
   "source": [
    "a = \"hello\"\n",
    "type(a)\n",
    "\n",
    "if type(a) == str:\n",
    "    print(\"a is a string\")\n"
   ]
  },
  {
   "cell_type": "code",
   "execution_count": 32,
   "metadata": {
    "collapsed": false
   },
   "outputs": [
    {
     "name": "stdout",
     "output_type": "stream",
     "text": [
      "2 3\n"
     ]
    }
   ],
   "source": [
    "a = 2\n",
    "b = 3\n",
    "print(a,b)"
   ]
  },
  {
   "cell_type": "markdown",
   "metadata": {},
   "source": [
    "Hint: Remember the `type` function?\n",
    "\n",
    "Hint: Recall that if you want to check whether the type of a variable is a specific kind, you can compare the type of the variable to the type of a known object."
   ]
  },
  {
   "cell_type": "markdown",
   "metadata": {},
   "source": [
    "## Loops##\n",
    "\n",
    "#### Theory\n",
    "\n",
    "• While loops\tgenerally\titerate\tover\ta sequence\tof\tchoices\t(ints in\tcases\twe\thave\tseen)\t\n",
    "• Python\thas\ta\tspecialized\tmechanism\tfor\tthis\tcase,\tcalled\ta\tfor loop\t\n",
    "\n",
    ">for *identifier* in *sequence*:<br>\n",
    "    *code block* \n",
    "    \n",
    "#### Example:"
   ]
  },
  {
   "cell_type": "code",
   "execution_count": 62,
   "metadata": {
    "collapsed": false
   },
   "outputs": [
    {
     "name": "stdout",
     "output_type": "stream",
     "text": [
      "Enter an integer: 3\n",
      "3 is not a perfect cube\n"
     ]
    }
   ],
   "source": [
    "x = input('Enter an integer: ')\n",
    "for ans in range(0, abs(x)+1):\n",
    "    if ans**3 == abs(x):\n",
    "        break\n",
    "if ans**3 != abs(x):\n",
    "    print(str(x) + ' is not a perfect cube')\n",
    "else:\n",
    "    if x < 0:\n",
    "        ans = - ans\n",
    "    print('Cube root of ' + str(x) + ' is ' + str(ans))"
   ]
  },
  {
   "cell_type": "markdown",
   "metadata": {},
   "source": [
    "### While###\n",
    "\n",
    "#### Exercise 3\n",
    "In this problem you'll be given a chance to practice writing some while loops.\n",
    "\n",
    "1..Convert the following into code that uses a while loop.\n",
    "\n",
    "*print 2 <br>\n",
    "print 4<br>\n",
    "print 6<br>\n",
    "print 8<br>\n",
    "print 10<br>\n",
    "print Goodbye!*"
   ]
  },
  {
   "cell_type": "code",
   "execution_count": null,
   "metadata": {
    "collapsed": true
   },
   "outputs": [],
   "source": [
    "#Your code here"
   ]
  },
  {
   "cell_type": "markdown",
   "metadata": {},
   "source": [
    "2.. Convert the following into code that uses a while loop.\n",
    "\n",
    "*print Hello!<br>\n",
    "print 10<br>\n",
    "print 8<br>\n",
    "print 6<br>\n",
    "print 4<br>\n",
    "print 2<br>*"
   ]
  },
  {
   "cell_type": "code",
   "execution_count": null,
   "metadata": {
    "collapsed": true
   },
   "outputs": [],
   "source": [
    "#Your code here"
   ]
  },
  {
   "cell_type": "markdown",
   "metadata": {},
   "source": [
    "3.. Write a while loop that sums the values 1 through *end*, inclusive. end is a variable that we define for you. So, for example, if we define end to be 6, your code should print out the result:\n",
    "\n",
    "*21*\n",
    "\n",
    "which is 1 + 2 + 3 + 4 + 5 + 6.\n",
    "\n",
    "Our automating testing will provide a value of end for you - so write your code in the following box assuming end is already defined."
   ]
  },
  {
   "cell_type": "code",
   "execution_count": 39,
   "metadata": {
    "collapsed": false
   },
   "outputs": [
    {
     "name": "stdout",
     "output_type": "stream",
     "text": [
      "end value:  9\n"
     ]
    }
   ],
   "source": [
    "end = np.random.randint(0,15)\n",
    "print(\"end value: \", end)\n",
    "#Your code here"
   ]
  },
  {
   "cell_type": "markdown",
   "metadata": {},
   "source": [
    "### For ###\n",
    "\n",
    "#### Exercise 4\n",
    "\n",
    "\n",
    "In this problem you'll be given a chance to practice writing some for loops.\n",
    "\n",
    "1.. Convert the following code into code that uses a for loop.\n",
    "\n",
    "*print 2<br>\n",
    "print 4<br>\n",
    "print 6<br>\n",
    "print 8<br>\n",
    "print 10<br>\n",
    "print \"Goodbye!\"*\n"
   ]
  },
  {
   "cell_type": "code",
   "execution_count": 40,
   "metadata": {
    "collapsed": true
   },
   "outputs": [],
   "source": [
    "#Your code here"
   ]
  },
  {
   "cell_type": "markdown",
   "metadata": {},
   "source": [
    "2.. Convert the following code into code that uses a for loop.\n",
    "\n",
    "*print \"Hello!\"<br>\n",
    "print 10<br>\n",
    "print 8<br>\n",
    "print 6<br>\n",
    "print 4<br>\n",
    "print 2<br>*"
   ]
  },
  {
   "cell_type": "code",
   "execution_count": null,
   "metadata": {
    "collapsed": true
   },
   "outputs": [],
   "source": [
    "#Your code here"
   ]
  },
  {
   "cell_type": "markdown",
   "metadata": {},
   "source": [
    "\n",
    "3.. Write a for loop that sums the values 1 through end, inclusive. *end* is a variable that we define for you. So, for example, if we define end to be 6, your code should print out the result:\n",
    "\n",
    "*21*\n",
    "\n",
    "which is 1 + 2 + 3 + 4 + 5 + 6.\n",
    "\n",
    "Our automating testing will provide a value of end for you - so write your code in the following box assuming end is already defined."
   ]
  },
  {
   "cell_type": "code",
   "execution_count": 41,
   "metadata": {
    "collapsed": false
   },
   "outputs": [
    {
     "name": "stdout",
     "output_type": "stream",
     "text": [
      "end value:  3\n"
     ]
    }
   ],
   "source": [
    "end = np.random.randint(0,15)\n",
    "print(\"end value: \", end)\n",
    "#Your code here"
   ]
  },
  {
   "cell_type": "markdown",
   "metadata": {},
   "source": [
    "## Functions##\n",
    "\n",
    "#### Theory\n",
    "\n",
    "Functions\tgive\tus\tabstraction\t–\tallow\tus\tto\tcapture\tcomputation\tand\ttreat\tas\tif\tprimitive.\n",
    "\n",
    "Idea\tis\tto\tencapsulate\tthis\tcomputation\twithin\ta\tscope such\tthat\tcan\ttreat\tas\tprimitive\n",
    "– Use\tby\tsimply\tcalling\tname,\tand\tproviding\tinput\t\n",
    "– Internal\tdetails\thidden\tfrom\tusers\t\n",
    "• Syntax:\t\n",
    "*def function name (formal parameters):*<br>\n",
    " *function body*\n",
    "• *def*\tis\ta\tkeyword\t\n",
    "• *Name*\tis\tany\tlegal\tPython\tname\t\n",
    "• Within\tparenthesis\tare\tzero\tor\tmore\tformal parameters\t–\teach\tis\ta\tvariable\tname\tto\tbe\tused inside function\tbody\n",
    "\n",
    "#### Example:"
   ]
  },
  {
   "cell_type": "code",
   "execution_count": 26,
   "metadata": {
    "collapsed": false
   },
   "outputs": [
    {
     "data": {
      "text/plain": [
       "5"
      ]
     },
     "execution_count": 26,
     "metadata": {},
     "output_type": "execute_result"
    }
   ],
   "source": [
    "def max(x, y):\n",
    "    if x > y:\n",
    "        return x\n",
    "    else:\n",
    "        return y\n",
    "max(5,3)"
   ]
  },
  {
   "cell_type": "markdown",
   "metadata": {},
   "source": [
    "#### Exercise 6\n",
    "\n",
    "Write a Python function, square, that takes in one number and returns the square of that number.\n",
    "\n",
    "This function takes in one number and returns one number."
   ]
  },
  {
   "cell_type": "code",
   "execution_count": null,
   "metadata": {
    "collapsed": true
   },
   "outputs": [],
   "source": [
    "def square(x):\n",
    "    '''\n",
    "    x: int or float.\n",
    "    '''\n",
    "#Your code here"
   ]
  },
  {
   "cell_type": "markdown",
   "metadata": {},
   "source": [
    "Write a Python function, evalQuadratic(a, b, c, x), that returns the value of the quadratic a⋅x2+b⋅x+c."
   ]
  },
  {
   "cell_type": "code",
   "execution_count": 14,
   "metadata": {
    "collapsed": true
   },
   "outputs": [],
   "source": [
    "def evalQuadratic(a, b, c, x):\n",
    "    '''\n",
    "    a, b, c: numerical values for the coefficients of a quadratic equation\n",
    "    x: numerical value at which to evaluate the quadratic.\n",
    "    '''\n",
    "    # Your code here"
   ]
  },
  {
   "cell_type": "markdown",
   "metadata": {},
   "source": [
    "Write a Python function, clip(lo, x, hi) that returns lo if x is less than lo; hi if x is greater than hi; and x otherwise. For this problem, you can assume that lo < hi.\n",
    "\n",
    "Don't use any conditional statements for this problem. Instead, use the built in Python functions min and max. You may wish to read the documentation on min and the documentation on max, and play around with these functions a bit in your interpreter, before beginning this problem.\n",
    "\n",
    "This function takes in three numbers and returns a single number."
   ]
  },
  {
   "cell_type": "code",
   "execution_count": null,
   "metadata": {
    "collapsed": true
   },
   "outputs": [],
   "source": [
    "def clip(lo, x, hi):\n",
    "    '''\n",
    "    Takes in three numbers and returns a value based on the value of x.\n",
    "    Returns:\n",
    "     - lo, when x < lo\n",
    "     - hi, when x > hi\n",
    "     - x, otherwise\n",
    "    '''\n",
    "# Your code here"
   ]
  },
  {
   "cell_type": "markdown",
   "metadata": {},
   "source": [
    "Write a Python function, fourthPower, that takes in one number and returns that value raised to the fourth power.\n",
    "\n",
    "You should use the square procedure that you defined in Problem 3 of these lecture exercises (you don't need to redefine square in this box; when you call square, the tutor will use our definition).\n",
    "\n",
    "This function takes in one number and returns one number."
   ]
  },
  {
   "cell_type": "code",
   "execution_count": null,
   "metadata": {
    "collapsed": true
   },
   "outputs": [],
   "source": [
    "def fourthPower(x):\n",
    "    '''\n",
    "    x: int or float.\n",
    "    '''\n",
    "    # Your code here\n"
   ]
  },
  {
   "cell_type": "markdown",
   "metadata": {},
   "source": [
    "Write a Python function, odd, that takes in one number and returns True when the number is odd and False otherwise.\n",
    "\n",
    "You should use the % (mod) operator, not if.\n",
    "\n",
    "This function takes in one number and returns a boolean."
   ]
  },
  {
   "cell_type": "code",
   "execution_count": null,
   "metadata": {
    "collapsed": true
   },
   "outputs": [],
   "source": [
    "def odd(x):\n",
    "    '''\n",
    "    x: int or float.\n",
    "\n",
    "    returns: True if x is odd, False otherwise\n",
    "    '''\n",
    "    # Your code here\n"
   ]
  },
  {
   "cell_type": "markdown",
   "metadata": {},
   "source": [
    "#### Exercise 7\n",
    "\n",
    "Define a function *isVowel(char)* that returns *True* if char is a vowel ('a', 'e', 'i', 'o', or 'u'), and *False* otherwise. You can assume that char is a single letter of any case (ie, 'A' and 'a' are both valid).\n",
    "\n",
    "Do not use the keyword in. Your function should take in a single string(Text) and return a boolean(True/False)."
   ]
  },
  {
   "cell_type": "code",
   "execution_count": null,
   "metadata": {
    "collapsed": true
   },
   "outputs": [],
   "source": [
    "def isVowel(char):\n",
    "    '''\n",
    "    char: a single letter of any case\n",
    "\n",
    "    returns: True if char is a vowel and False otherwise.\n",
    "    '''\n",
    "    # Your code here\n"
   ]
  },
  {
   "cell_type": "markdown",
   "metadata": {},
   "source": [
    "Define a function *isVowel2(char)* that returns *True* if char is a vowel ('a', 'e', 'i', 'o', or 'u'), and *False* otherwise. You can assume that char is a single letter of any case (ie, 'A' and 'a' are both valid).\n",
    "\n",
    "This function is similar to the previous problem - but this time, do use the keyword in. Your function should take in a single string and return a boolean."
   ]
  },
  {
   "cell_type": "code",
   "execution_count": null,
   "metadata": {
    "collapsed": true
   },
   "outputs": [],
   "source": [
    "def isVowel2(char):\n",
    "    '''\n",
    "    char: a single letter of any case\n",
    "\n",
    "    returns: True if char is a vowel and False otherwise.\n",
    "    '''\n",
    "    # Your code here\n"
   ]
  },
  {
   "cell_type": "markdown",
   "metadata": {},
   "source": [
    "## Objects\n",
    "\n",
    "#### Theory\n",
    "\n",
    "Compound\tdata\ttypes:\t\n",
    "• Tuples<br>\n",
    "• Lists\t\n",
    "• Dictonaries\t\n",
    "\n",
    "**Tuples**<br>\n",
    "\n",
    "• Ordered\tsequence\tof elements\t(similar\tto\tstrings)\t\n",
    "• Elements\tcan\tbe\tmore\tthan\tjust\tcharacters\n",
    "\n",
    "**Lists**<br>\n",
    "\n",
    "Look\ta\tlot\tlike\ttuples\n",
    "\n",
    "– Ordered\tsequence\tof\tvalues,\teach\tidentified\tby\tan\tindex\t\n",
    "– Use\t[1,\t2,\t3]\trather\tthan\t(1,\t2,\t3)\t\n",
    "– Singletons\tare\tnow\tjust\t[4]\trather\tthan\t(4,\t)\t\n",
    "• BIG\tDIFFERENCE!\t\n",
    "– Lists\tare\tmutable!!\t\n",
    "– While\ttuple,\tint,\tfloat,\tstr\tare\timmutable\t\n",
    "– So\tlists\tcan\tbe\tmodified\tafter\tthey\tare\tcreated!\t\n",
    "\n",
    "**Dictionaries**\n",
    "\n",
    "Dict is\tgeneralization\tof\tlists,\tbut\tnow\tindices\tdon’t\thave\tto\tbe\tintegers\t–\tcan\tbe\tvalues\tof\tany\timmutable\ttype\t\n",
    "\n",
    "• Refer\tto\tindices\tas\tkeys,\tsince\tarbitrary\tin\tform\t\n",
    "• A\tdict is\tthen\ta\tcollection\tof\t*key, value* pairs\t\n",
    "• Syntax<br>\n",
    "-monthNumbers = { ‘Jan’:1, ‘Feb’:2, ‘Mar’:3, 1:’Jan’, 2:’Feb’, 3:’Mar’}\n"
   ]
  },
  {
   "cell_type": "code",
   "execution_count": 43,
   "metadata": {
    "collapsed": false
   },
   "outputs": [
    {
     "name": "stdout",
     "output_type": "stream",
     "text": [
      "Tuples:\n",
      "\t (1, 'two', 3, (1, 'two', 3), 'four')\n",
      "\t (1, 'two', 3)\n",
      "\t (3, (1, 'two', 3), 'four')\n",
      "\t (1, 'two', 3, (1, 'two', 3), 'four', 'five')\n",
      "(1, 'two', 3, 1, 'two', 3, 1, 'two', 3, 1, 'two', 3, 1, 'two', 3)\n"
     ]
    }
   ],
   "source": [
    "#Tuples\n",
    "t1 = (1, \"two\", 3)\n",
    "t2 = (t1, \"four\")\n",
    "print(\"Tuples:\")\n",
    "print(\"\\t\",(t1+t2))\n",
    "print(\"\\t\",((t1+t2)[3]))\n",
    "print(\"\\t\",((t1+t2)[2:5]))\n",
    "t3 = (\"five\",)\n",
    "print(\"\\t\",(t1+t2+t3) )\n",
    "print(t1*5)"
   ]
  },
  {
   "cell_type": "code",
   "execution_count": 44,
   "metadata": {
    "collapsed": false
   },
   "outputs": [
    {
     "name": "stdout",
     "output_type": "stream",
     "text": [
      "\n",
      "Lists:\n",
      "\t (1, 'two', 3, (1, 'two', 3), 'four')\n",
      "\t (1, 'two', 3)\n",
      "\t (3, (1, 'two', 3), 'four')\n",
      "\t Here is the big difference:\n",
      "\t \t [[1, 'two', 3], 'four', [1, 'two', 3]]\n",
      "\t \t [1, 'two', 3]\n",
      "\t \t two\n"
     ]
    }
   ],
   "source": [
    "#Lists\n",
    "l1 = [1,\"two\",3]\n",
    "l2 = [l1,\"four\"]\n",
    "print(\"\")\n",
    "print(\"Lists:\")\n",
    "print(\"\\t\",(t1+t2))\n",
    "print(\"\\t\",((t1+t2)[3]))\n",
    "print(\"\\t\",((t1+t2)[2:5]))\n",
    "l2.append(l1)\n",
    "print(\"\\t\", \"Here is the big difference:\")\n",
    "print(\"\\t\", \"\\t\", l2)\n",
    "print(\"\\t\", \"\\t\", l2[2])\n",
    "print(\"\\t\", \"\\t\", l2[2][1]) #List can have more than one dimension"
   ]
  },
  {
   "cell_type": "code",
   "execution_count": 45,
   "metadata": {
    "collapsed": false
   },
   "outputs": [
    {
     "name": "stdout",
     "output_type": "stream",
     "text": [
      "\n",
      "Dictionaries:\n",
      "\t {1: 'Jan', 2: 'Feb', 'Mar': 3, 'Feb': 2, 'Jan': 1, 3: 'Mar'}\n",
      "\t 1\n",
      "\t Jan\n"
     ]
    }
   ],
   "source": [
    "#Dictionaries\n",
    "monthNumbers = {\"Jan\":1, \"Feb\":2, \"Mar\":3, 1:\"Jan\", 2:\"Feb\", 3:\"Mar\"}\n",
    "print(\"\")\n",
    "print(\"Dictionaries:\")\n",
    "print(\"\\t\",monthNumbers)\n",
    "print(\"\\t\",monthNumbers[\"Jan\"])\n",
    "print(\"\\t\",monthNumbers[1])"
   ]
  },
  {
   "cell_type": "markdown",
   "metadata": {},
   "source": [
    "#### Exercise 8\n",
    "\n",
    "Write a procedure called *oddTuples*, which takes a tuple as input, and returns a new tuple as output, where every other element of the input tuple is copied, starting with the first one. So if test is the tuple ('I', 'am', 'a', 'test', 'tuple'), then evaluating *oddTuples* on this input would return the tuple ('I', 'a', 'tuple')"
   ]
  },
  {
   "cell_type": "code",
   "execution_count": null,
   "metadata": {
    "collapsed": true
   },
   "outputs": [],
   "source": [
    "example = [\"I\",\"am\",\"a\",\"test\",\"tuple\"]\n",
    "example2 = [\"I\", \"am unable to\",\"eat\",\".\",\"Diharrea\"]\n",
    "\n",
    "def oddTuples(aTup):\n",
    "    '''\n",
    "    aTup: a tuple\n",
    "    \n",
    "    returns: tuple, every other element of aTup. \n",
    "    '''\n",
    "    # Your Code Here"
   ]
  },
  {
   "cell_type": "markdown",
   "metadata": {},
   "source": [
    "#### Exercise 9\n",
    "\n",
    "Here is the code for a function applyToEach:"
   ]
  },
  {
   "cell_type": "code",
   "execution_count": 47,
   "metadata": {
    "collapsed": true
   },
   "outputs": [],
   "source": [
    "def applyToEach(L, f):\n",
    "    for i in range(len(L)):\n",
    "        L[i] = f(L[i])\n",
    "    print(L)"
   ]
  },
  {
   "cell_type": "markdown",
   "metadata": {},
   "source": [
    "Assume that:"
   ]
  },
  {
   "cell_type": "code",
   "execution_count": 48,
   "metadata": {
    "collapsed": true
   },
   "outputs": [],
   "source": [
    "testList = [1, -4, 8, -9]"
   ]
  },
  {
   "cell_type": "markdown",
   "metadata": {},
   "source": [
    "For each of the following questions (which you may assume is evaluated independently of the previous questions, so that *testList* has the value indicated above), provide an expression (a function) using *applyToEach*, so that after evaluation testList has the indicated value. You may need to write a simple procedure in each question to help with this process."
   ]
  },
  {
   "cell_type": "markdown",
   "metadata": {},
   "source": [
    "##### Example Question:\n",
    "\n",
    "> print testList\n",
    "[5, -20, 40, -45]"
   ]
  },
  {
   "cell_type": "code",
   "execution_count": 49,
   "metadata": {
    "collapsed": false
   },
   "outputs": [
    {
     "name": "stdout",
     "output_type": "stream",
     "text": [
      "[5, -20, 40, -45]\n"
     ]
    }
   ],
   "source": [
    "def timesFive(a):\n",
    "    return a * 5\n",
    "\n",
    "applyToEach(testList, timesFive)"
   ]
  },
  {
   "cell_type": "markdown",
   "metadata": {},
   "source": [
    "##### Question 1\n",
    "> print testList\n",
    "  [1, 4, 8, 9]"
   ]
  },
  {
   "cell_type": "code",
   "execution_count": null,
   "metadata": {
    "collapsed": true
   },
   "outputs": [],
   "source": [
    "#your code:"
   ]
  },
  {
   "cell_type": "markdown",
   "metadata": {},
   "source": [
    "##### Question 2\n",
    "> print testList\n",
    "  [2, -3, 9, -8]"
   ]
  },
  {
   "cell_type": "code",
   "execution_count": null,
   "metadata": {
    "collapsed": true
   },
   "outputs": [],
   "source": [
    "#your code:"
   ]
  },
  {
   "cell_type": "markdown",
   "metadata": {},
   "source": [
    "##### Question  3\n",
    "\n",
    "> print testList\n",
    "  [1, 16, 64, 81]"
   ]
  },
  {
   "cell_type": "code",
   "execution_count": null,
   "metadata": {
    "collapsed": true
   },
   "outputs": [],
   "source": [
    "#your code:"
   ]
  }
 ],
 "metadata": {
  "kernelspec": {
   "display_name": "Python 2",
   "language": "python",
   "name": "python2"
  },
  "language_info": {
   "codemirror_mode": {
    "name": "ipython",
    "version": 2
   },
   "file_extension": ".py",
   "mimetype": "text/x-python",
   "name": "python",
   "nbconvert_exporter": "python",
   "pygments_lexer": "ipython2",
   "version": "2.7.9"
  }
 },
 "nbformat": 4,
 "nbformat_minor": 0
}
