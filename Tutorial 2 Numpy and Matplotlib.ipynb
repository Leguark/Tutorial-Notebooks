{
 "cells": [
  {
   "cell_type": "markdown",
   "metadata": {},
   "source": [
    "# Tutorial 2: Numpy and Matplotlib for Dummies®\n",
    "\n",
    "Welcome back to Python for Dummies®. Since I am aware that listen to a honeyed voice going through functions is the best way to sleep *la siesta* at 3 pm, from now on the tutorials will be even more learning by doing. In this notebook we will learn the the syntaxis and how to create the functions that you will need to hack the Assignment 2.\n",
    "\n",
    "### Exercise 1: Importing, once more time\n",
    "\n",
    "You have done it 30 times so far but can you doing it without checking out? Import numpy and matplotlib"
   ]
  },
  {
   "cell_type": "code",
   "execution_count": 3,
   "metadata": {
    "collapsed": false
   },
   "outputs": [
    {
     "data": {
      "text/html": [
       "<link href='http://fonts.googleapis.com/css?family=Alegreya+Sans:100,300,400,500,700,800,900,100italic,300italic,400italic,500italic,700italic,800italic,900italic' rel='stylesheet' type='text/css'>\n",
       "<link href='http://fonts.googleapis.com/css?family=Arvo:400,700,400italic' rel='stylesheet' type='text/css'>\n",
       "<link href='http://fonts.googleapis.com/css?family=PT+Mono' rel='stylesheet' type='text/css'>\n",
       "<link href='http://fonts.googleapis.com/css?family=Shadows+Into+Light' rel='stylesheet' type='text/css'>\n",
       "<link rel=\"stylesheet\" type=\"text/css\" href=\"http://fonts.googleapis.com/css?family=Tangerine\">\n",
       "<link href='http://fonts.googleapis.com/css?family=Philosopher:400,700,400italic,700italic' rel='stylesheet' type='text/css'>\n",
       "<link href='http://fonts.googleapis.com/css?family=Libre+Baskerville:400,400italic' rel='stylesheet' type='text/css'>\n",
       "<link href='http://fonts.googleapis.com/css?family=Lora:400,400italic' rel='stylesheet' type='text/css'>\n",
       "<link href='http://fonts.googleapis.com/css?family=Karla:400,400italic' rel='stylesheet' type='text/css'>\n",
       "\n",
       "<style>\n",
       "\n",
       "@font-face {\n",
       "    font-family: \"Computer Modern\";\n",
       "    src: url('http://mirrors.ctan.org/fonts/cm-unicode/fonts/otf/cmunss.otf');\n",
       "}\n",
       "\n",
       "#notebook_panel { /* main background */\n",
       "    background: #888;\n",
       "    color: #f6f6f6;\n",
       "}\n",
       "\n",
       "div.cell { /* set cell width to about 80 chars */\n",
       "    width: 800px;\n",
       "}\n",
       "\n",
       "div #notebook { /* centre the content */\n",
       "    background: #fff; /* white background for content */\n",
       "    width: 1000px;\n",
       "    margin: auto;\n",
       "    padding-left: 1em;\n",
       "}\n",
       "\n",
       "#notebook li { /* More space between bullet points */\n",
       "margin-top:0.8em;\n",
       "}\n",
       "\n",
       "\n",
       "/* draw border around running cells */\n",
       "div.cell.border-box-sizing.code_cell.running { \n",
       "    border: 3px solid #000;\n",
       "}\n",
       "\n",
       "/* Put a solid color box around each cell and its output, visually linking them together */\n",
       "div.cell.code_cell {\n",
       "    background-color: rgba(204,204,204,1.0); \n",
       "    border-radius: 10px; /* rounded borders */\n",
       "    width: 900px;\n",
       "    padding: 1em;\n",
       "    margin-top: 1em;\n",
       "}\n",
       "\n",
       "div.text_cell_render{\n",
       "    font-family: 'Arvo' sans-serif;\n",
       "    line-height: 130%;\n",
       "    font-size: 115%;\n",
       "    width:700px;\n",
       "    margin-left:auto;\n",
       "    margin-right:auto;\n",
       "}\n",
       "\n",
       "/* Formatting for questions */\n",
       "p.question {\n",
       "    font-style: italic;\n",
       "    color: rgb(128,0,0);\n",
       "}\n",
       "\n",
       "\n",
       "/* Formatting for header cells */\n",
       ".text_cell_render h1 {\n",
       "    font-family: 'Philosopher', sans-serif;\n",
       "    /* font-family: 'Tangerine', serif; */\n",
       "    /* font-family: 'Libre Baskerville', serif; */\n",
       "    /* font-family: 'Karla', sans-serif;\n",
       "    /* font-family: 'Lora', serif; */\n",
       "    font-size: 50px;\n",
       "    text-align: center;\n",
       "    /* font-style: italic; */\n",
       "    font-weight: 400;\n",
       "    /* font-size: 40pt; */\n",
       "    text-shadow: 4px 4px 4px #aaa;\n",
       "    line-height: 120%;\n",
       "    color: rgb(12,85,97);\n",
       "    margin-bottom: .5em;\n",
       "    margin-top: 0.1em;\n",
       "    display: block;\n",
       "}\t\n",
       ".text_cell_render h2 {\n",
       "    /* font-family: 'Philosopher', serif; */\n",
       "    font-family: 'Lora', serif;\n",
       "    font-weight: 700;\n",
       "    font-size: 24pt;\n",
       "    line-height: 100%;\n",
       "    /* color: rgb(171,165,131); */\n",
       "    color: rgb(12,85,97);\n",
       "    margin-bottom: 0.1em;\n",
       "    margin-top: 0.1em;\n",
       "    display: block;\n",
       "}\t\n",
       "\n",
       ".text_cell_render h3 {\n",
       "    font-family: 'Philosopher', serif;\n",
       "    margin-top:12px;\n",
       "    margin-bottom: 3px;\n",
       "    font-style: italic;\n",
       "    color: rgb(95,92,72);\n",
       "}\n",
       "\n",
       ".text_cell_render h4 {\n",
       "    font-family: 'Philosopher', serif;\n",
       "}\n",
       "\n",
       ".text_cell_render h5 {\n",
       "    font-family: 'Alegreya Sans', sans-serif;\n",
       "    font-weight: 300;\n",
       "    font-size: 16pt;\n",
       "    color: grey;\n",
       "    font-style: italic;\n",
       "    margin-bottom: .1em;\n",
       "    margin-top: 0.1em;\n",
       "    display: block;\n",
       "}\n",
       "\n",
       ".text_cell_render h6 {\n",
       "    font-family: 'PT Mono', sans-serif;\n",
       "    font-weight: 300;\n",
       "    font-size: 10pt;\n",
       "    color: grey;\n",
       "    margin-bottom: 1px;\n",
       "    margin-top: 1px;\n",
       "}\n",
       "\n",
       ".CodeMirror{\n",
       "        font-family: \"PT Mono\";\n",
       "        font-size: 100%;\n",
       "}\n",
       "\n",
       "</style>\n"
      ],
      "text/plain": [
       "<IPython.core.display.HTML object>"
      ]
     },
     "execution_count": 3,
     "metadata": {},
     "output_type": "execute_result"
    }
   ],
   "source": [
    "from IPython.core.display import HTML\n",
    "css_file = r'C:\\Users\\Miguel\\workspace\\nre_style_3.css' # Here you have to write your path!\n",
    "HTML(open(css_file, \"r\").read())\n",
    "\n",
    "#your code here:\n",
    "\n"
   ]
  },
  {
   "cell_type": "code",
   "execution_count": null,
   "metadata": {
    "collapsed": false
   },
   "outputs": [],
   "source": [
    "x = np.random.rand(5)\n",
    "y = np.random.rand(5)\n",
    "print(x, y)"
   ]
  },
  {
   "cell_type": "markdown",
   "metadata": {},
   "source": [
    "Try to plot x and y. Can you visualize it?"
   ]
  },
  {
   "cell_type": "code",
   "execution_count": null,
   "metadata": {
    "collapsed": false
   },
   "outputs": [],
   "source": [
    "#your code here:\n"
   ]
  },
  {
   "cell_type": "markdown",
   "metadata": {},
   "source": [
    "### Exercise 2: Numpy vector and operations\n",
    "#### Exercise 2.1: Creation of numpy arrays\n",
    "\n",
    "Let's play with the creation of arrays and their basic operations:\n",
    "\n",
    "1. Create a matrix A with shape 5(rows)x10(columns) that follows the serie: 0,2,4,6....\n",
    "```\n",
    "[[ 0  2  4  6  8 10 12 14 16 18]\n",
    " [20 22 24 26 28 30 32 34 36 38]\n",
    " [40 42 44 46 48 50 52 54 56 58]\n",
    " [60 62 64 66 68 70 72 74 76 78]\n",
    " [80 82 84 86 88 90 92 94 96 98]]\n",
    "```\n",
    " \n",
    "2. Create a matrix B with same shape that goes from 584.22 to 132.54 (without using a calculator)\n",
    "```\n",
    "[[ 584.22        575.00204082  565.78408163  556.56612245  547.34816327\n",
    "   538.13020408  528.9122449   519.69428571  510.47632653  501.25836735]\n",
    " [ 492.04040816  482.82244898  473.6044898   464.38653061  455.16857143\n",
    "   445.95061224  436.73265306  427.51469388  418.29673469  409.07877551]\n",
    " [ 399.86081633  390.64285714  381.42489796  372.20693878  362.98897959\n",
    "   353.77102041  344.55306122  335.33510204  326.11714286  316.89918367]\n",
    " [ 307.68122449  298.46326531  289.24530612  280.02734694  270.80938776\n",
    "   261.59142857  252.37346939  243.1555102   233.93755102  224.71959184]\n",
    " [ 215.50163265  206.28367347  197.06571429  187.8477551   178.62979592\n",
    "   169.41183673  160.19387755  150.97591837  141.75795918  132.54      ]]\n",
    "```\n",
    "3. $c= \\sum_{i=1}^n A * \\sum_{i=1}^n B$"
   ]
  },
  {
   "cell_type": "code",
   "execution_count": null,
   "metadata": {
    "collapsed": false
   },
   "outputs": [],
   "source": [
    "#Your code here:\n",
    "\n"
   ]
  },
  {
   "cell_type": "markdown",
   "metadata": {},
   "source": [
    "#### Exercicse 2.2: Looking for the value in the chaos\n",
    "\n",
    "Several timers we will find lomg list of numbers with a complete chaotic structure where we will need to be able to find different stuff:\n",
    "\n",
    "1. Find the maximum value of D\n",
    "2. Find the minimum value of D\n",
    "3. Find the  position of the maximum avlue of D\n",
    "4. Find the second bigger value of D\n",
    "5. Make an array F that contains only the values over 60\n",
    "6. Make an array G that does not contain the maximum value"
   ]
  },
  {
   "cell_type": "code",
   "execution_count": null,
   "metadata": {
    "collapsed": false
   },
   "outputs": [],
   "source": [
    "D = np.random.randint(0,100,1000)\n",
    "#your code here\n"
   ]
  },
  {
   "cell_type": "markdown",
   "metadata": {},
   "source": [
    "Make a function that returns the values of E above and below x. e.g. \n",
    "\n",
    "```python\n",
    "x = 5\n",
    "E = [0,40,2,11,55]\n",
    "return 2,11\n",
    "```"
   ]
  },
  {
   "cell_type": "code",
   "execution_count": null,
   "metadata": {
    "collapsed": false
   },
   "outputs": [],
   "source": [
    "x = np.random.randint(0,100)\n",
    "E = np.random.randint(0,100,5)\n",
    "print(x,E)\n",
    "#your code here:\n",
    "\n"
   ]
  },
  {
   "cell_type": "markdown",
   "metadata": {},
   "source": [
    "### Exercise 3: Manipulation of matrices\n",
    "\n",
    "Being able to create any type of matrix can be more challenger than it looks. Do not make tha arrays manually (value by value) feel the Python. Try to get the following:\n",
    "\n",
    "1.\n",
    "```\n",
    "[[ 2.  2.]\n",
    " [ 2.  2.]]\n",
    "\n",
    "```"
   ]
  },
  {
   "cell_type": "code",
   "execution_count": null,
   "metadata": {
    "collapsed": true
   },
   "outputs": [],
   "source": [
    "#your code here:"
   ]
  },
  {
   "cell_type": "markdown",
   "metadata": {},
   "source": [
    "2.\n",
    "```\n",
    "[[ 2.  0.  0.]\n",
    " [ 0.  2.  0.]\n",
    " [ 0.  0.  2.]]\n",
    "```"
   ]
  },
  {
   "cell_type": "code",
   "execution_count": null,
   "metadata": {
    "collapsed": true
   },
   "outputs": [],
   "source": [
    "#your code here:"
   ]
  },
  {
   "cell_type": "markdown",
   "metadata": {},
   "source": [
    "3.\n",
    "```\n",
    "[[ 1.  0.  0.]\n",
    " [ 0.  2.  0.]\n",
    " [ 0.  0.  3.]]\n",
    "```"
   ]
  },
  {
   "cell_type": "code",
   "execution_count": null,
   "metadata": {
    "collapsed": true
   },
   "outputs": [],
   "source": [
    "#your code here:"
   ]
  },
  {
   "cell_type": "markdown",
   "metadata": {},
   "source": [
    "4.\n",
    "```\n",
    "[[ 1.  0.  0.]\n",
    " [ 1.  2.  0.]\n",
    " [ 1.  0.  3.]]\n",
    "```"
   ]
  },
  {
   "cell_type": "code",
   "execution_count": null,
   "metadata": {
    "collapsed": true
   },
   "outputs": [],
   "source": [
    "#your code here:"
   ]
  },
  {
   "cell_type": "markdown",
   "metadata": {},
   "source": [
    "5.\n",
    "```\n",
    "[[ 1.  0.  0.  0.  2.]\n",
    " [ 1.  2.  0.  0.  3.]\n",
    " [ 1.  2.  1.  0.  4.]]\n",
    "```"
   ]
  },
  {
   "cell_type": "code",
   "execution_count": null,
   "metadata": {
    "collapsed": true
   },
   "outputs": [],
   "source": [
    "#your code here:"
   ]
  },
  {
   "cell_type": "markdown",
   "metadata": {},
   "source": [
    "6.\n",
    "```\n",
    "[[-4.  1.  0.  1.  0.  0.  0.  0.  0.]\n",
    " [ 1. -4.  1.  0.  1.  0.  0.  0.  0.]\n",
    " [ 0.  1. -4.  0.  0.  1.  0.  0.  0.]\n",
    " [ 1.  0.  0. -4.  1.  0.  1.  0.  0.]\n",
    " [ 0.  1.  0.  1. -4.  1.  0.  1.  0.]\n",
    " [ 0.  0.  1.  0.  1. -4.  0.  0.  1.]\n",
    " [ 0.  0.  0.  1.  0.  0. -4.  1.  0.]\n",
    " [ 0.  0.  0.  0.  1.  0.  1. -4.  1.]\n",
    " [ 0.  0.  0.  0.  0.  1.  0.  1. -4.]]\n",
    "```"
   ]
  },
  {
   "cell_type": "code",
   "execution_count": null,
   "metadata": {
    "collapsed": true
   },
   "outputs": [],
   "source": [
    "#your code here:"
   ]
  },
  {
   "cell_type": "markdown",
   "metadata": {
    "collapsed": true
   },
   "source": [
    "### Exercise 4: Plotting\n",
    "\n",
    "Learn how to plot in Python looks a bit like this:\n",
    "\n",
    "![want die](plotlern.png)\n",
    "\n",
    "However, there is a solution for all your problems! (nearly)\n",
    "\n",
    "http://nbviewer.ipython.org/github/jrjohansson/scientific-python-lectures/blob/master/Lecture-4-Matplotlib.ipynb\n",
    "\n",
    "So here in Python for Dummies® we will try to go step by step until you will be able to create the Cathedral of Cologne  in 3D.\n",
    "\n",
    "#### Exercise 4.1: Do not start the house from the roof. One dimension mastery.\n",
    "\n",
    "Since we do not want to waste time, lets try to make science out of this.\n",
    "\n",
    "- Make a plot with shape of a house\n",
    "\n",
    "![house](house.png)\n",
    "\n",
    "2. Set a title\n",
    "3. Set labels to axes\n",
    "3. Set a Grid\n",
    "3. Set the name of lines to -> house\n",
    "4. Create a vertical line from the top of your roof to the floor. Dashed ----\n",
    "5. Now add a nice tree close to the house\n",
    "6. Make the top of the tree transparent\n",
    "7. Color the roof\n",
    "7. Last but not least: Make a fence with five arrows\n",
    "\n",
    "The final result should look kind of: \n",
    "\n",
    "![houseCom](houseCom.png)"
   ]
  },
  {
   "cell_type": "code",
   "execution_count": null,
   "metadata": {
    "collapsed": false
   },
   "outputs": [],
   "source": [
    "#your code here:\n",
    "\n"
   ]
  },
  {
   "cell_type": "markdown",
   "metadata": {
    "collapsed": true
   },
   "source": [
    "#### Exercise 4.2: 3D plotting\n",
    "\n",
    "Plotting in 3D is a bit tricky since we have to start to think in matrices. Our plot functions will need now 3 main atributes (3D), x and y that will create basically the frame and Z that will give the value to that frame. The weird part of these is that you need this format:\n",
    "\n",
    "```\n",
    "Rx = [[0 1 2 3 4 5]\n",
    "     [0 1 2 3 4 5]\n",
    "     [0 1 2 3 4 5]\n",
    "     [0 1 2 3 4 5]\n",
    "     [0 1 2 3 4 5]\n",
    "     [0 1 2 3 4 5]]\n",
    "     \n",
    "Ry = [[0 0 0 0 0 0]\n",
    "     [1 1 1 1 1 1]\n",
    "     [2 2 2 2 2 2]\n",
    "     [3 3 3 3 3 3]\n",
    "     [4 4 4 4 4 4]\n",
    "     [5 5 5 5 5 5]]\n",
    "```\n",
    "\n",
    "Our values of Z must be also given in a matrix of the same shape in this case 6x6:\n",
    "\n",
    "```\n",
    "Zr = [[0 0 0 0 0 0]\n",
    "     [0 0 0 0 0 0]\n",
    "     [0 0 0 0 0 0]\n",
    "     [0 0 0 0 0 0]\n",
    "     [0 0 0 0 0 0]\n",
    "     [0 0 0 0 0 0]]\n",
    "```\n",
    "\n",
    "So now, we have all the ingredienst to make a nice mountain using:\n",
    "```python\n",
    "\n",
    "plt.contourf(Rx, Ry, Zr,)\n",
    "\n",
    "```"
   ]
  },
  {
   "cell_type": "code",
   "execution_count": null,
   "metadata": {
    "collapsed": true
   },
   "outputs": [],
   "source": [
    "#your code here:"
   ]
  }
 ],
 "metadata": {
  "kernelspec": {
   "display_name": "Python 2",
   "language": "python",
   "name": "python2"
  },
  "language_info": {
   "codemirror_mode": {
    "name": "ipython",
    "version": 2
   },
   "file_extension": ".py",
   "mimetype": "text/x-python",
   "name": "python",
   "nbconvert_exporter": "python",
   "pygments_lexer": "ipython2",
   "version": "2.7.9"
  }
 },
 "nbformat": 4,
 "nbformat_minor": 0
}
